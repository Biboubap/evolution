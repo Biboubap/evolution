{
  "cells": [
    {
      "cell_type": "markdown",
      "metadata": {
        "id": "xscsSfa9o7Pr"
      },
      "source": [
        "<img src=\"https://github.com/d9w/evolution/raw/master/imgs/logo.png\" width=\"20%\" align=\"right\" style=\"margin:0px 20px\">\n",
        "\n",
        "\n",
        "# Evolutionary Algorithms\n",
        "\n",
        "## Evolving Neural Networks with ES\n",
        "\n",
        "<a rel=\"license\" href=\"http://creativecommons.org/licenses/by-sa/4.0/\"><img alt=\"Creative Commons License\" align=\"left\" src=\"https://i.creativecommons.org/l/by-sa/4.0/80x15.png\" /></a>&nbsp;| Dennis G. Wilson, Yuri Lavinas, Paul Templier | <a href=\"https://d9w.github.io/evolution/\">https://d9w.github.io/evolution/</a>"
      ]
    },
    {
      "cell_type": "markdown",
      "metadata": {
        "id": "rMNoJjbeo7Ps"
      },
      "source": [
        "In order to visualize the environment in this notebook, you will need to install the following:"
      ]
    },
    {
      "cell_type": "code",
      "execution_count": 7,
      "metadata": {
        "id": "FhyloBHDo7Pt",
        "colab": {
          "base_uri": "https://localhost:8080/"
        },
        "outputId": "c1ee901a-e926-4189-d98c-6f544530323c"
      },
      "outputs": [
        {
          "output_type": "stream",
          "name": "stdout",
          "text": [
            "Reading package lists... Done\n",
            "Building dependency tree... Done\n",
            "Reading state information... Done\n",
            "The following additional packages will be installed:\n",
            "  libfontenc1 libxfont2 libxkbfile1 x11-xkb-utils xfonts-base xfonts-encodings xfonts-utils\n",
            "  xserver-common\n",
            "The following NEW packages will be installed:\n",
            "  libfontenc1 libxfont2 libxkbfile1 x11-xkb-utils xfonts-base xfonts-encodings xfonts-utils\n",
            "  xserver-common xvfb\n",
            "0 upgraded, 9 newly installed, 0 to remove and 29 not upgraded.\n",
            "Need to get 7,814 kB of archives.\n",
            "After this operation, 12.0 MB of additional disk space will be used.\n",
            "Get:1 http://archive.ubuntu.com/ubuntu jammy/main amd64 libfontenc1 amd64 1:1.1.4-1build3 [14.7 kB]\n",
            "Get:2 http://archive.ubuntu.com/ubuntu jammy/main amd64 libxfont2 amd64 1:2.0.5-1build1 [94.5 kB]\n",
            "Get:3 http://archive.ubuntu.com/ubuntu jammy/main amd64 libxkbfile1 amd64 1:1.1.0-1build3 [71.8 kB]\n",
            "Get:4 http://archive.ubuntu.com/ubuntu jammy/main amd64 x11-xkb-utils amd64 7.7+5build4 [172 kB]\n",
            "Get:5 http://archive.ubuntu.com/ubuntu jammy/main amd64 xfonts-encodings all 1:1.0.5-0ubuntu2 [578 kB]\n",
            "Get:6 http://archive.ubuntu.com/ubuntu jammy/main amd64 xfonts-utils amd64 1:7.7+6build2 [94.6 kB]\n",
            "Get:7 http://archive.ubuntu.com/ubuntu jammy/main amd64 xfonts-base all 1:1.0.5 [5,896 kB]\n",
            "Get:8 http://archive.ubuntu.com/ubuntu jammy-updates/main amd64 xserver-common all 2:21.1.4-2ubuntu1.7~22.04.13 [29.1 kB]\n",
            "Get:9 http://archive.ubuntu.com/ubuntu jammy-updates/universe amd64 xvfb amd64 2:21.1.4-2ubuntu1.7~22.04.13 [863 kB]\n",
            "Fetched 7,814 kB in 3s (2,787 kB/s)\n",
            "Selecting previously unselected package libfontenc1:amd64.\n",
            "(Reading database ... 126209 files and directories currently installed.)\n",
            "Preparing to unpack .../0-libfontenc1_1%3a1.1.4-1build3_amd64.deb ...\n",
            "Unpacking libfontenc1:amd64 (1:1.1.4-1build3) ...\n",
            "Selecting previously unselected package libxfont2:amd64.\n",
            "Preparing to unpack .../1-libxfont2_1%3a2.0.5-1build1_amd64.deb ...\n",
            "Unpacking libxfont2:amd64 (1:2.0.5-1build1) ...\n",
            "Selecting previously unselected package libxkbfile1:amd64.\n",
            "Preparing to unpack .../2-libxkbfile1_1%3a1.1.0-1build3_amd64.deb ...\n",
            "Unpacking libxkbfile1:amd64 (1:1.1.0-1build3) ...\n",
            "Selecting previously unselected package x11-xkb-utils.\n",
            "Preparing to unpack .../3-x11-xkb-utils_7.7+5build4_amd64.deb ...\n",
            "Unpacking x11-xkb-utils (7.7+5build4) ...\n",
            "Selecting previously unselected package xfonts-encodings.\n",
            "Preparing to unpack .../4-xfonts-encodings_1%3a1.0.5-0ubuntu2_all.deb ...\n",
            "Unpacking xfonts-encodings (1:1.0.5-0ubuntu2) ...\n",
            "Selecting previously unselected package xfonts-utils.\n",
            "Preparing to unpack .../5-xfonts-utils_1%3a7.7+6build2_amd64.deb ...\n",
            "Unpacking xfonts-utils (1:7.7+6build2) ...\n",
            "Selecting previously unselected package xfonts-base.\n",
            "Preparing to unpack .../6-xfonts-base_1%3a1.0.5_all.deb ...\n",
            "Unpacking xfonts-base (1:1.0.5) ...\n",
            "Selecting previously unselected package xserver-common.\n",
            "Preparing to unpack .../7-xserver-common_2%3a21.1.4-2ubuntu1.7~22.04.13_all.deb ...\n",
            "Unpacking xserver-common (2:21.1.4-2ubuntu1.7~22.04.13) ...\n",
            "Selecting previously unselected package xvfb.\n",
            "Preparing to unpack .../8-xvfb_2%3a21.1.4-2ubuntu1.7~22.04.13_amd64.deb ...\n",
            "Unpacking xvfb (2:21.1.4-2ubuntu1.7~22.04.13) ...\n",
            "Setting up libfontenc1:amd64 (1:1.1.4-1build3) ...\n",
            "Setting up xfonts-encodings (1:1.0.5-0ubuntu2) ...\n",
            "Setting up libxkbfile1:amd64 (1:1.1.0-1build3) ...\n",
            "Setting up libxfont2:amd64 (1:2.0.5-1build1) ...\n",
            "Setting up x11-xkb-utils (7.7+5build4) ...\n",
            "Setting up xfonts-utils (1:7.7+6build2) ...\n",
            "Setting up xfonts-base (1:1.0.5) ...\n",
            "Setting up xserver-common (2:21.1.4-2ubuntu1.7~22.04.13) ...\n",
            "Setting up xvfb (2:21.1.4-2ubuntu1.7~22.04.13) ...\n",
            "Processing triggers for man-db (2.10.2-1) ...\n",
            "Processing triggers for fontconfig (2.13.1-4.2ubuntu5) ...\n",
            "Processing triggers for libc-bin (2.35-0ubuntu3.8) ...\n",
            "/sbin/ldconfig.real: /usr/local/lib/libhwloc.so.15 is not a symbolic link\n",
            "\n",
            "/sbin/ldconfig.real: /usr/local/lib/libtcm.so.1 is not a symbolic link\n",
            "\n",
            "/sbin/ldconfig.real: /usr/local/lib/libtbbmalloc_proxy.so.2 is not a symbolic link\n",
            "\n",
            "/sbin/ldconfig.real: /usr/local/lib/libtbbbind_2_0.so.3 is not a symbolic link\n",
            "\n",
            "/sbin/ldconfig.real: /usr/local/lib/libtbbmalloc.so.2 is not a symbolic link\n",
            "\n",
            "/sbin/ldconfig.real: /usr/local/lib/libtbb.so.12 is not a symbolic link\n",
            "\n",
            "/sbin/ldconfig.real: /usr/local/lib/libur_adapter_opencl.so.0 is not a symbolic link\n",
            "\n",
            "/sbin/ldconfig.real: /usr/local/lib/libtbbbind.so.3 is not a symbolic link\n",
            "\n",
            "/sbin/ldconfig.real: /usr/local/lib/libtcm_debug.so.1 is not a symbolic link\n",
            "\n",
            "/sbin/ldconfig.real: /usr/local/lib/libur_adapter_level_zero.so.0 is not a symbolic link\n",
            "\n",
            "/sbin/ldconfig.real: /usr/local/lib/libur_loader.so.0 is not a symbolic link\n",
            "\n",
            "/sbin/ldconfig.real: /usr/local/lib/libumf.so.0 is not a symbolic link\n",
            "\n",
            "/sbin/ldconfig.real: /usr/local/lib/libtbbbind_2_5.so.3 is not a symbolic link\n",
            "\n"
          ]
        }
      ],
      "source": [
        "!apt-get install -y xvfb"
      ]
    },
    {
      "cell_type": "code",
      "execution_count": 8,
      "metadata": {
        "id": "wziNRz5to7Pt",
        "colab": {
          "base_uri": "https://localhost:8080/"
        },
        "outputId": "b4bee068-3715-40c4-d0dc-63c92a3e8838"
      },
      "outputs": [
        {
          "output_type": "stream",
          "name": "stdout",
          "text": [
            "Collecting cma\n",
            "  Using cached cma-4.0.0-py3-none-any.whl.metadata (8.0 kB)\n",
            "Collecting swig\n",
            "  Using cached swig-4.3.0-py2.py3-none-manylinux_2_5_x86_64.manylinux1_x86_64.whl.metadata (3.5 kB)\n",
            "Requirement already satisfied: numpy in /usr/local/lib/python3.11/dist-packages (from cma) (2.0.2)\n",
            "Using cached cma-4.0.0-py3-none-any.whl (283 kB)\n",
            "Using cached swig-4.3.0-py2.py3-none-manylinux_2_5_x86_64.manylinux1_x86_64.whl (1.9 MB)\n",
            "Installing collected packages: swig, cma\n",
            "Successfully installed cma-4.0.0 swig-4.3.0\n"
          ]
        }
      ],
      "source": [
        "!pip install cma swig"
      ]
    },
    {
      "cell_type": "code",
      "source": [
        " !pip install pyvirtualdisplay gymnasium[box2d]"
      ],
      "metadata": {
        "id": "uj99QPfPq083",
        "colab": {
          "base_uri": "https://localhost:8080/"
        },
        "outputId": "ea07a3cc-ec92-4500-82e9-3b7b02f06020"
      },
      "execution_count": 9,
      "outputs": [
        {
          "output_type": "stream",
          "name": "stdout",
          "text": [
            "Collecting pyvirtualdisplay\n",
            "  Using cached PyVirtualDisplay-3.0-py3-none-any.whl.metadata (943 bytes)\n",
            "Requirement already satisfied: gymnasium[box2d] in /usr/local/lib/python3.11/dist-packages (1.1.1)\n",
            "Requirement already satisfied: numpy>=1.21.0 in /usr/local/lib/python3.11/dist-packages (from gymnasium[box2d]) (2.0.2)\n",
            "Requirement already satisfied: cloudpickle>=1.2.0 in /usr/local/lib/python3.11/dist-packages (from gymnasium[box2d]) (3.1.1)\n",
            "Requirement already satisfied: typing-extensions>=4.3.0 in /usr/local/lib/python3.11/dist-packages (from gymnasium[box2d]) (4.12.2)\n",
            "Requirement already satisfied: farama-notifications>=0.0.1 in /usr/local/lib/python3.11/dist-packages (from gymnasium[box2d]) (0.0.4)\n",
            "Collecting box2d-py==2.3.5 (from gymnasium[box2d])\n",
            "  Downloading box2d-py-2.3.5.tar.gz (374 kB)\n",
            "\u001b[?25l     \u001b[90m━━━━━━━━━━━━━━━━━━━━━━━━━━━━━━━━━━━━━━━━\u001b[0m \u001b[32m0.0/374.4 kB\u001b[0m \u001b[31m?\u001b[0m eta \u001b[36m-:--:--\u001b[0m\r\u001b[2K     \u001b[91m━━━━━━━━━━━━━━━━━━━━━━━━━━━━\u001b[0m\u001b[90m╺\u001b[0m\u001b[90m━━━━━━━━━━━\u001b[0m \u001b[32m266.2/374.4 kB\u001b[0m \u001b[31m8.0 MB/s\u001b[0m eta \u001b[36m0:00:01\u001b[0m\r\u001b[2K     \u001b[90m━━━━━━━━━━━━━━━━━━━━━━━━━━━━━━━━━━━━━━━━\u001b[0m \u001b[32m374.4/374.4 kB\u001b[0m \u001b[31m6.9 MB/s\u001b[0m eta \u001b[36m0:00:00\u001b[0m\n",
            "\u001b[?25h  Preparing metadata (setup.py) ... \u001b[?25l\u001b[?25hdone\n",
            "Requirement already satisfied: pygame>=2.1.3 in /usr/local/lib/python3.11/dist-packages (from gymnasium[box2d]) (2.6.1)\n",
            "Requirement already satisfied: swig==4.* in /usr/local/lib/python3.11/dist-packages (from gymnasium[box2d]) (4.3.0)\n",
            "Using cached PyVirtualDisplay-3.0-py3-none-any.whl (15 kB)\n",
            "Building wheels for collected packages: box2d-py\n",
            "  Building wheel for box2d-py (setup.py) ... \u001b[?25l\u001b[?25hdone\n",
            "  Created wheel for box2d-py: filename=box2d_py-2.3.5-cp311-cp311-linux_x86_64.whl size=2379445 sha256=d13f252045e6ee5b4114f6d047a12aeac9105cca2f06171b13edb0be3d34d51f\n",
            "  Stored in directory: /root/.cache/pip/wheels/ab/f1/0c/d56f4a2bdd12bae0a0693ec33f2f0daadb5eb9753c78fa5308\n",
            "Successfully built box2d-py\n",
            "Installing collected packages: pyvirtualdisplay, box2d-py\n",
            "Successfully installed box2d-py-2.3.5 pyvirtualdisplay-3.0\n"
          ]
        }
      ]
    },
    {
      "cell_type": "code",
      "execution_count": 10,
      "metadata": {
        "id": "mYHEMwqCo7Pt",
        "colab": {
          "base_uri": "https://localhost:8080/"
        },
        "outputId": "ef620139-c497-4dfe-b751-c7856ae2755f"
      },
      "outputs": [
        {
          "output_type": "stream",
          "name": "stdout",
          "text": [
            "Requirement already satisfied: torch in /usr/local/lib/python3.11/dist-packages (2.6.0+cu124)\n",
            "Requirement already satisfied: filelock in /usr/local/lib/python3.11/dist-packages (from torch) (3.18.0)\n",
            "Requirement already satisfied: typing-extensions>=4.10.0 in /usr/local/lib/python3.11/dist-packages (from torch) (4.12.2)\n",
            "Requirement already satisfied: networkx in /usr/local/lib/python3.11/dist-packages (from torch) (3.4.2)\n",
            "Requirement already satisfied: jinja2 in /usr/local/lib/python3.11/dist-packages (from torch) (3.1.6)\n",
            "Requirement already satisfied: fsspec in /usr/local/lib/python3.11/dist-packages (from torch) (2025.3.0)\n",
            "Requirement already satisfied: nvidia-cuda-nvrtc-cu12==12.4.127 in /usr/local/lib/python3.11/dist-packages (from torch) (12.4.127)\n",
            "Requirement already satisfied: nvidia-cuda-runtime-cu12==12.4.127 in /usr/local/lib/python3.11/dist-packages (from torch) (12.4.127)\n",
            "Requirement already satisfied: nvidia-cuda-cupti-cu12==12.4.127 in /usr/local/lib/python3.11/dist-packages (from torch) (12.4.127)\n",
            "Requirement already satisfied: nvidia-cudnn-cu12==9.1.0.70 in /usr/local/lib/python3.11/dist-packages (from torch) (9.1.0.70)\n",
            "Requirement already satisfied: nvidia-cublas-cu12==12.4.5.8 in /usr/local/lib/python3.11/dist-packages (from torch) (12.4.5.8)\n",
            "Requirement already satisfied: nvidia-cufft-cu12==11.2.1.3 in /usr/local/lib/python3.11/dist-packages (from torch) (11.2.1.3)\n",
            "Requirement already satisfied: nvidia-curand-cu12==10.3.5.147 in /usr/local/lib/python3.11/dist-packages (from torch) (10.3.5.147)\n",
            "Requirement already satisfied: nvidia-cusolver-cu12==11.6.1.9 in /usr/local/lib/python3.11/dist-packages (from torch) (11.6.1.9)\n",
            "Requirement already satisfied: nvidia-cusparse-cu12==12.3.1.170 in /usr/local/lib/python3.11/dist-packages (from torch) (12.3.1.170)\n",
            "Requirement already satisfied: nvidia-cusparselt-cu12==0.6.2 in /usr/local/lib/python3.11/dist-packages (from torch) (0.6.2)\n",
            "Requirement already satisfied: nvidia-nccl-cu12==2.21.5 in /usr/local/lib/python3.11/dist-packages (from torch) (2.21.5)\n",
            "Requirement already satisfied: nvidia-nvtx-cu12==12.4.127 in /usr/local/lib/python3.11/dist-packages (from torch) (12.4.127)\n",
            "Requirement already satisfied: nvidia-nvjitlink-cu12==12.4.127 in /usr/local/lib/python3.11/dist-packages (from torch) (12.4.127)\n",
            "Requirement already satisfied: triton==3.2.0 in /usr/local/lib/python3.11/dist-packages (from torch) (3.2.0)\n",
            "Requirement already satisfied: sympy==1.13.1 in /usr/local/lib/python3.11/dist-packages (from torch) (1.13.1)\n",
            "Requirement already satisfied: mpmath<1.4,>=1.1.0 in /usr/local/lib/python3.11/dist-packages (from sympy==1.13.1->torch) (1.3.0)\n",
            "Requirement already satisfied: MarkupSafe>=2.0 in /usr/local/lib/python3.11/dist-packages (from jinja2->torch) (3.0.2)\n"
          ]
        }
      ],
      "source": [
        "!pip install torch"
      ]
    },
    {
      "cell_type": "markdown",
      "metadata": {
        "id": "6U8g1JLlo7Pu"
      },
      "source": [
        "# <a name=\"neuroevolution\">3.</a> ES for Neuroevolution"
      ]
    },
    {
      "cell_type": "markdown",
      "metadata": {
        "id": "-kFo__Oko7Pu"
      },
      "source": [
        "Evolutionary strategies are intended for continuous optimization and can easily be applied to the optimization of neural network parameters, or *neuroevolution*."
      ]
    },
    {
      "cell_type": "code",
      "execution_count": 11,
      "metadata": {
        "id": "ABKY7svxo7Pu"
      },
      "outputs": [],
      "source": [
        "import torch\n",
        "import torch.nn as nn\n",
        "import torch.nn.functional as F\n",
        "import torch.multiprocessing as mp\n",
        "import numpy as np\n",
        "import gymnasium as gym\n",
        "import time"
      ]
    },
    {
      "cell_type": "code",
      "execution_count": 12,
      "metadata": {
        "id": "dtG-vrkao7Pv"
      },
      "outputs": [],
      "source": [
        "class NeuralNetwork(nn.Module):\n",
        "    #ARCHITECTURE\n",
        "    def __init__(self, input_shape, n_actions):\n",
        "        super(NeuralNetwork, self).__init__()\n",
        "        self.l1 = nn.Linear(input_shape, 32)\n",
        "        self.l2 = nn.Linear(32, 32) #2 couches à 32 neurones\n",
        "        self.lout = nn.Linear(32, n_actions)\n",
        "\n",
        "    def forward(self, x):\n",
        "        x = F.relu(self.l1(x.float()))\n",
        "        x = F.relu(self.l2(x))\n",
        "        return self.lout(x)\n",
        "\n",
        "    def get_params(self):\n",
        "        p = np.empty((0,))\n",
        "        for n in self.parameters():\n",
        "            p = np.append(p, n.flatten().cpu().detach().numpy())\n",
        "        return p\n",
        "\n",
        "    def set_params(self, x):\n",
        "        start = 0\n",
        "        for p in self.parameters():\n",
        "            e = start + np.prod(p.shape)\n",
        "            p.data = torch.FloatTensor(x[start:e]).reshape(p.shape)\n",
        "            start = e"
      ]
    },
    {
      "cell_type": "markdown",
      "metadata": {
        "id": "Ys8WPRh7o7Pv"
      },
      "source": [
        "We'll add some visualization functionality to have the environment render directly in the notebook."
      ]
    },
    {
      "cell_type": "code",
      "execution_count": 13,
      "metadata": {
        "id": "OdK60705o7Pv"
      },
      "outputs": [],
      "source": [
        "from pyvirtualdisplay import Display\n",
        "from IPython import display\n",
        "import matplotlib.pyplot as plt\n",
        "%matplotlib inline\n",
        "pydisplay = Display(visible=0, size=(1400, 900))\n",
        "pydisplay.start()\n",
        "plt.ion();"
      ]
    },
    {
      "cell_type": "markdown",
      "metadata": {
        "id": "8DdM7Fwmo7Pw"
      },
      "source": [
        "Following the framework of evolutionary policy search, we will optimize a neural network representing a policy and maximize the total reward over a single episode using this policy."
      ]
    },
    {
      "cell_type": "code",
      "execution_count": 14,
      "metadata": {
        "id": "Ef6Vc1g6o7Pw"
      },
      "outputs": [],
      "source": [
        "def evaluate(ann, env, visul=True):\n",
        "    obs, info = env.reset(seed=0)\n",
        "\n",
        "    # Create the figure and axis only once before starting\n",
        "    if visul:\n",
        "        plt.figure(figsize=(8, 6))\n",
        "        img = plt.imshow(env.render())\n",
        "        plt.axis('off')\n",
        "        plt.tight_layout()\n",
        "\n",
        "    total_reward = 0\n",
        "    while True:\n",
        "        # Output of the neural net\n",
        "        net_output = ann(torch.tensor(obs))\n",
        "        # the action is the value clipped returned by the nn\n",
        "        action = net_output.data.cpu().numpy().argmax()\n",
        "        #obs : prochain état, reward les récompenses associées au modèle, done\n",
        "        #critère de terminaison,\n",
        "        obs, reward, done, truncated, info = env.step(action)\n",
        "        total_reward += reward\n",
        "\n",
        "        if visul:\n",
        "            img.set_data(env.render())\n",
        "            display.display(plt.gcf())\n",
        "            display.clear_output(wait=True)\n",
        "            # Small sleep to allow rendering to complete properly\n",
        "            time.sleep(0.01)\n",
        "\n",
        "        if done:\n",
        "            break\n",
        "\n",
        "    if visul:\n",
        "        plt.close()\n",
        "\n",
        "    return total_reward"
      ]
    },
    {
      "cell_type": "code",
      "source": [
        "import base64\n",
        "def evaluate_video(ann, env, visul=True):\n",
        "    obs, info = env.reset(seed=0)\n",
        "    total_reward = 0\n",
        "\n",
        "    if visul:\n",
        "        frames = []\n",
        "        frames.append(env.render())\n",
        "\n",
        "    while True:\n",
        "        net_output = ann(torch.tensor(obs))\n",
        "        action = net_output.data.cpu().numpy().argmax()\n",
        "        obs, reward, done, truncated, info = env.step(action)\n",
        "        total_reward += reward\n",
        "\n",
        "        if visul:\n",
        "            frames.append(env.render())\n",
        "\n",
        "        if done:\n",
        "            break\n",
        "\n",
        "    if visul:\n",
        "        # Convert frames to mp4 video\n",
        "        from moviepy.editor import ImageSequenceClip\n",
        "        from IPython.display import HTML\n",
        "\n",
        "        clip = ImageSequenceClip(frames, fps=20)\n",
        "        video_file = 'lunar_lander.mp4'\n",
        "        clip.write_videofile(video_file, fps=20)\n",
        "\n",
        "        # Display the video\n",
        "        with open(video_file, 'rb') as f:\n",
        "            video_data = f.read()\n",
        "\n",
        "        display.display(HTML(\"\"\"\n",
        "        <video width=\"640\" height=\"480\" controls autoplay>\n",
        "            <source src=\"data:video/mp4;base64,{0}\" type=\"video/mp4\">\n",
        "        </video>\n",
        "        \"\"\".format(base64.b64encode(video_data).decode())))\n",
        "\n",
        "    return total_reward"
      ],
      "metadata": {
        "id": "kdvyxi5mupen"
      },
      "execution_count": 15,
      "outputs": []
    },
    {
      "cell_type": "markdown",
      "metadata": {
        "id": "59T71pJpo7Pw"
      },
      "source": [
        "We've configured this for discrete action spaces. We can see a random neural network on different environments like `CartPole-v0`, `MountainCar-v0`, and `LunarLander-v2`."
      ]
    },
    {
      "cell_type": "code",
      "execution_count": 32,
      "metadata": {
        "id": "zCIn7l4zo7Pw"
      },
      "outputs": [],
      "source": [
        "env = gym.make('LunarLander-v3', render_mode='rgb_array')\n",
        "ann = NeuralNetwork(env.observation_space.shape[0], env.action_space.n)"
      ]
    },
    {
      "cell_type": "code",
      "execution_count": 33,
      "metadata": {
        "colab": {
          "base_uri": "https://localhost:8080/",
          "height": 606
        },
        "id": "yXo6-crpo7Pw",
        "outputId": "479e2cd0-c71e-4e7b-f4c1-c7bdf1809593"
      },
      "outputs": [
        {
          "output_type": "stream",
          "name": "stdout",
          "text": [
            "Moviepy - Building video lunar_lander.mp4.\n",
            "Moviepy - Writing video lunar_lander.mp4\n",
            "\n"
          ]
        },
        {
          "output_type": "stream",
          "name": "stderr",
          "text": []
        },
        {
          "output_type": "stream",
          "name": "stdout",
          "text": [
            "Moviepy - Done !\n",
            "Moviepy - video ready lunar_lander.mp4\n"
          ]
        },
        {
          "output_type": "display_data",
          "data": {
            "text/plain": [
              "<IPython.core.display.HTML object>"
            ],
            "text/html": [
              "\n",
              "        <video width=\"640\" height=\"480\" controls autoplay>\n",
              "            <source src=\"data:video/mp4;base64,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\" type=\"video/mp4\">\n",
              "        </video>\n",
              "        "
            ]
          },
          "metadata": {}
        },
        {
          "output_type": "execute_result",
          "data": {
            "text/plain": [
              "np.float64(-327.49826784486834)"
            ]
          },
          "metadata": {},
          "execution_count": 33
        }
      ],
      "source": [
        "evaluate_video(ann, env, visul=True)"
      ]
    },
    {
      "cell_type": "markdown",
      "metadata": {
        "id": "oaAbf0XSo7Pw"
      },
      "source": [
        "In order to evolve the parameters of this neural network, we will modify the parameters of the network using `set_params` with the genes of the new individual. In the evolutionary literature, this is referred to as a *direct encoding* as the neural network parameters are directly encoded in the genome."
      ]
    },
    {
      "cell_type": "code",
      "execution_count": 34,
      "metadata": {
        "id": "hFm6TDqwo7Px"
      },
      "outputs": [],
      "source": [
        "def fitness(x, ann, env, visul=False):\n",
        "    ann.set_params(x)\n",
        "    return -evaluate(ann, env, visul=visul)"
      ]
    },
    {
      "cell_type": "code",
      "execution_count": 36,
      "metadata": {
        "id": "drvQzAUJo7Px",
        "colab": {
          "base_uri": "https://localhost:8080/"
        },
        "outputId": "ec7dac1b-e317-4c4e-bc4f-e65e19e3c81a"
      },
      "outputs": [
        {
          "output_type": "execute_result",
          "data": {
            "text/plain": [
              "(1476,)"
            ]
          },
          "metadata": {},
          "execution_count": 36
        }
      ],
      "source": [
        "p = ann.get_params()\n",
        "np.shape(p)"
      ]
    },
    {
      "cell_type": "markdown",
      "metadata": {
        "id": "E9W5141po7Px"
      },
      "source": [
        "We can first observe a random individual $x$."
      ]
    },
    {
      "cell_type": "code",
      "execution_count": 37,
      "metadata": {
        "id": "Pf7JsCeMo7Px",
        "colab": {
          "base_uri": "https://localhost:8080/",
          "height": 550
        },
        "outputId": "37567d9e-de70-4ec0-c7a5-ec2a84294f41"
      },
      "outputs": [
        {
          "output_type": "execute_result",
          "data": {
            "text/plain": [
              "np.float64(-327.49826784486834)"
            ]
          },
          "metadata": {},
          "execution_count": 37
        }
      ],
      "source": [
        "x = np.random.rand(len(p))\n",
        "-fitness(x, ann, env, visul=True)"
      ]
    },
    {
      "cell_type": "markdown",
      "metadata": {
        "id": "qg-zwRo2o7Px"
      },
      "source": [
        "Let's try optimizing the policy using the simple $(\\mu, \\lambda)$ ES we proposed."
      ]
    },
    {
      "cell_type": "code",
      "execution_count": 49,
      "metadata": {
        "id": "ni-v3IjDo7Px"
      },
      "outputs": [],
      "source": [
        "def mu_lambda(x, fitness, gens=200, lam=10, alpha=0.2, verbose=False):\n",
        "    x_best = x\n",
        "    f_best = fitness(x)\n",
        "    fits = np.zeros(gens)\n",
        "    for g in range(gens):\n",
        "        N = np.random.normal(size=(lam, len(x)))\n",
        "        F = np.zeros(lam)\n",
        "        for i in range(lam):\n",
        "            ind = x + N[i, :]*(gens-g)/gens #On fait décroître au cours du temps l'écart type de recherche\n",
        "            F[i] = fitness(ind)\n",
        "            if F[i] < f_best:\n",
        "                f_best = F[i]\n",
        "                x_best = ind\n",
        "                if verbose:\n",
        "                    print(g, \" \", f_best)\n",
        "        fits[g] = f_best\n",
        "        mu_f = np.mean(F)\n",
        "        std_f = np.std(F)\n",
        "        A = F\n",
        "        if std_f != 0:\n",
        "            A = (F - mu_f) / std_f\n",
        "        x = x - alpha * np.dot(A, N) / lam\n",
        "    return fits, x_best"
      ]
    },
    {
      "cell_type": "code",
      "execution_count": 50,
      "metadata": {
        "id": "r2IQPQuoo7Px",
        "colab": {
          "base_uri": "https://localhost:8080/"
        },
        "outputId": "fee80f6c-6f0f-4622-a3d1-19cb2f75d62c"
      },
      "outputs": [
        {
          "output_type": "stream",
          "name": "stdout",
          "text": [
            "0   100.7109188165753\n",
            "3   -43.504826904786995\n"
          ]
        }
      ],
      "source": [
        "np.random.seed(654)\n",
        "env = gym.make('LunarLander-v3', render_mode='rgb_array')\n",
        "ann = NeuralNetwork(env.observation_space.shape[0], env.action_space.n)\n",
        "x = np.random.randn(len(ann.get_params()))\n",
        "f = lambda x : fitness(x, ann, env)\n",
        "fits, x = mu_lambda(x, f, gens=10, lam=10, alpha=0.1, verbose=True)"
      ]
    },
    {
      "cell_type": "code",
      "execution_count": 51,
      "metadata": {
        "id": "q4ra9XbHo7Px",
        "colab": {
          "base_uri": "https://localhost:8080/"
        },
        "outputId": "aa86b6b8-a020-4336-c025-e7c0ac22e7ca"
      },
      "outputs": [
        {
          "output_type": "execute_result",
          "data": {
            "text/plain": [
              "array([100.71091882, 100.71091882, 100.71091882, -43.5048269 ,\n",
              "       -43.5048269 , -43.5048269 , -43.5048269 , -43.5048269 ,\n",
              "       -43.5048269 , -43.5048269 ])"
            ]
          },
          "metadata": {},
          "execution_count": 51
        }
      ],
      "source": [
        "fits"
      ]
    },
    {
      "cell_type": "code",
      "execution_count": 52,
      "metadata": {
        "id": "X8JX8zS4o7Py",
        "colab": {
          "base_uri": "https://localhost:8080/",
          "height": 430
        },
        "outputId": "d7d8526b-b65a-48a9-87b4-804caffb3031"
      },
      "outputs": [
        {
          "output_type": "display_data",
          "data": {
            "text/plain": [
              "<Figure size 640x480 with 1 Axes>"
            ],
            "image/png": "[encoded data removed]"
          },
          "metadata": {}
        }
      ],
      "source": [
        "plt.plot(fits);"
      ]
    },
    {
      "cell_type": "code",
      "execution_count": 53,
      "metadata": {
        "id": "YhdkKzUvo7Py",
        "colab": {
          "base_uri": "https://localhost:8080/",
          "height": 550
        },
        "outputId": "c366d31c-262e-47f2-ca61-95bc87a000bd"
      },
      "outputs": [
        {
          "output_type": "execute_result",
          "data": {
            "text/plain": [
              "np.float64(43.504826904786995)"
            ]
          },
          "metadata": {},
          "execution_count": 53
        }
      ],
      "source": [
        "-fitness(x, ann, env, visul=True)"
      ]
    },
    {
      "cell_type": "markdown",
      "metadata": {
        "id": "eXuGnNQvo7Py"
      },
      "source": [
        "# CMA-ES for Neuroevolution"
      ]
    },
    {
      "cell_type": "markdown",
      "metadata": {
        "id": "5TPByeGlo7Py"
      },
      "source": [
        "We will now use CMA-ES for the Lunar Lander problem"
      ]
    },
    {
      "cell_type": "code",
      "execution_count": 88,
      "metadata": {
        "id": "OYPW3MpQo7Py",
        "colab": {
          "base_uri": "https://localhost:8080/"
        },
        "outputId": "e5f3439d-f8e7-4b6e-c67f-6deb5cdcfc7b"
      },
      "outputs": [
        {
          "output_type": "stream",
          "name": "stdout",
          "text": [
            "(12_w,25)-aCMA-ES (mu_w=7.3,w_1=23%) in dimension 1476 (seed=23, Wed Mar 26 10:29:36 2025)\n"
          ]
        }
      ],
      "source": [
        "import cma\n",
        "np.random.seed(100)\n",
        "env = gym.make('LunarLander-v3', render_mode='rgb_array')\n",
        "ann = NeuralNetwork(env.observation_space.shape[0], env.action_space.n)\n",
        "es = cma.CMAEvolutionStrategy(len(ann.get_params()) * [0], 1.5, {'seed': 23})"
      ]
    },
    {
      "cell_type": "code",
      "execution_count": 89,
      "metadata": {
        "id": "sF-mpwrXo7Py",
        "colab": {
          "base_uri": "https://localhost:8080/"
        },
        "outputId": "d6896e5a-a217-4f02-feae-68b53c73f45f"
      },
      "outputs": [
        {
          "output_type": "stream",
          "name": "stdout",
          "text": [
            "Iterat #Fevals   function value  axis ratio  sigma  min&max std  t[m:s]\n",
            "    1     25 2.303658319061653e+01 1.0e+00 1.49e+00  1e+00  1e+00 0:00.8\n",
            "    2     50 -2.306960373520086e+01 1.0e+00 1.48e+00  1e+00  1e+00 0:01.5\n",
            "    3     75 4.759597051116940e+01 1.0e+00 1.48e+00  1e+00  1e+00 0:02.1\n",
            "    8    200 -1.282683587667503e+01 1.0e+00 1.44e+00  1e+00  1e+00 0:05.2\n",
            "   13    325 -1.372266683319538e+00 1.0e+00 1.41e+00  1e+00  1e+00 0:09.9\n",
            "   21    525 -2.050984373907319e+01 1.0e+00 1.38e+00  1e+00  1e+00 0:15.4\n"
          ]
        }
      ],
      "source": [
        "for i in range(25):\n",
        "    solutions = np.array(es.ask()) #es.ask() donne la population. Solutions est l'échantillon des individus (réseaux différents)\n",
        "    fits = [fitness(x, ann, env) for x in solutions] #Calcule valeur de fitness de chaque individu et met dans vecteurs\n",
        "    es.tell(solutions, fits) #informe cmaes avec les fitness\n",
        "    es.disp()"
      ]
    },
    {
      "cell_type": "code",
      "execution_count": 90,
      "metadata": {
        "id": "TOikg1p5o7Py",
        "colab": {
          "base_uri": "https://localhost:8080/",
          "height": 550
        },
        "outputId": "105dc7cf-1462-4c15-88bd-755c530aa09a"
      },
      "outputs": [
        {
          "output_type": "execute_result",
          "data": {
            "text/plain": [
              "np.float64(69.69643523087387)"
            ]
          },
          "metadata": {},
          "execution_count": 90
        }
      ],
      "source": [
        "x = es.result[0]\n",
        "-fitness(x, ann, env, visul=True)"
      ]
    },
    {
      "cell_type": "markdown",
      "metadata": {
        "id": "7Qx8B9Qxo7Py"
      },
      "source": [
        "The results on LunarLander clearly show the benefits of CMA-ES; we have found a reasonable policy in a small number of generations. Applying CMA-ES to larger neural networks remains an open challenge, however, due to the vast number of parameters in ANNs. Specifically, CMA-ES calculates the covariance of all parameters, which is $O(n^2)$."
      ]
    },
    {
      "cell_type": "code",
      "execution_count": 66,
      "metadata": {
        "id": "rHn4GUUfo7Py",
        "colab": {
          "base_uri": "https://localhost:8080/"
        },
        "outputId": "948bdc12-fd5e-433b-b49c-f32d94e272b6"
      },
      "outputs": [
        {
          "output_type": "execute_result",
          "data": {
            "text/plain": [
              "(1476, 1476)"
            ]
          },
          "metadata": {},
          "execution_count": 66
        }
      ],
      "source": [
        "np.shape(es.sm.C)"
      ]
    },
    {
      "cell_type": "markdown",
      "metadata": {
        "id": "MvTCkjkKo7Pz"
      },
      "source": [
        "<div class=\"alert alert-success\">\n",
        "    <h3>Exercise 1</h3>\n",
        "    \n",
        "The network used has 2 layers of 32 neurons each. Try changing this and noticing the impact on the number of total parameters for CMA-ES. How large of a network can CMA-ES optimize?\n",
        "</div>"
      ]
    },
    {
      "cell_type": "markdown",
      "metadata": {
        "id": "kdzW9_jko7Pz"
      },
      "source": [
        "<div class=\"alert alert-success\">\n",
        "    <h3>Exercise 2</h3>\n",
        "    \n",
        "Compare the $(1+\\lambda)$ ES, $(\\mu,\\lambda)$ ES, and CMA-ES algorithms on Lunar Lander. Is one significantly better than the others, consistently across different initializations?\n",
        "</div>"
      ]
    },
    {
      "cell_type": "code",
      "execution_count": null,
      "metadata": {
        "id": "eAHHt4Ldo7Pz"
      },
      "outputs": [],
      "source": []
    }
  ],
  "metadata": {
    "@webio": {
      "lastCommId": null,
      "lastKernelId": null
    },
    "celltoolbar": "Slideshow",
    "kernelspec": {
      "display_name": "evolutionaryClass",
      "language": "python",
      "name": "evolutionaryclass"
    },
    "language_info": {
      "codemirror_mode": {
        "name": "ipython",
        "version": 3
      },
      "file_extension": ".py",
      "mimetype": "text/x-python",
      "name": "python",
      "nbconvert_exporter": "python",
      "pygments_lexer": "ipython3",
      "version": "3.11.4"
    },
    "colab": {
      "provenance": []
    }
  },
  "nbformat": 4,
  "nbformat_minor": 0
}