{
  "cells": [
    {
      "cell_type": "markdown",
      "metadata": {
        "id": "MsVZnCyZefZu"
      },
      "source": [
        "<img src=\"https://github.com/d9w/evolution/raw/master/imgs/logo.png\" width=\"20%\" align=\"right\" style=\"margin:0px 20px\">\n",
        "\n",
        "\n",
        "# Evolutionary Algorithms\n",
        "\n",
        "## Symbolic Regression\n",
        "\n",
        "<a rel=\"license\" href=\"http://creativecommons.org/licenses/by-sa/4.0/\"><img alt=\"Creative Commons License\" align=\"left\" src=\"https://i.creativecommons.org/l/by-sa/4.0/80x15.png\" /></a>&nbsp;| Dennis G. Wilson | <a href=\"https://d9w.github.io/evolution/\">https://d9w.github.io/evolution/</a>"
      ]
    },
    {
      "cell_type": "markdown",
      "metadata": {
        "id": "wU5pXq-RefZx"
      },
      "source": [
        "This notebook is partially adapted from Michael Littman's \"Introduction to Machine Learning\" [class](https://github.com/mlittmancs/great_courses_ml)."
      ]
    },
    {
      "cell_type": "markdown",
      "metadata": {
        "id": "OYhWPv_Sxmhn"
      },
      "source": [
        "In this class, we will be exploring symbolic regression: the evolution of a symbolic function that inputs and outputs data. We will use the `gplearn` [package](https://gplearn.readthedocs.io/en/stable/)."
      ]
    },
    {
      "cell_type": "code",
      "execution_count": 1,
      "metadata": {
        "colab": {
          "base_uri": "https://localhost:8080/"
        },
        "id": "NqPdwcHzefZy",
        "outputId": "708b7294-0f8e-4094-fb0e-2f981d6c3caa"
      },
      "outputs": [
        {
          "output_type": "stream",
          "name": "stdout",
          "text": [
            "Collecting gplearn\n",
            "  Downloading gplearn-0.4.2-py3-none-any.whl.metadata (4.3 kB)\n",
            "Requirement already satisfied: scikit-learn>=1.0.2 in /usr/local/lib/python3.11/dist-packages (from gplearn) (1.6.1)\n",
            "Requirement already satisfied: joblib>=1.0.0 in /usr/local/lib/python3.11/dist-packages (from gplearn) (1.4.2)\n",
            "Requirement already satisfied: numpy>=1.19.5 in /usr/local/lib/python3.11/dist-packages (from scikit-learn>=1.0.2->gplearn) (2.0.2)\n",
            "Requirement already satisfied: scipy>=1.6.0 in /usr/local/lib/python3.11/dist-packages (from scikit-learn>=1.0.2->gplearn) (1.14.1)\n",
            "Requirement already satisfied: threadpoolctl>=3.1.0 in /usr/local/lib/python3.11/dist-packages (from scikit-learn>=1.0.2->gplearn) (3.6.0)\n",
            "Downloading gplearn-0.4.2-py3-none-any.whl (25 kB)\n",
            "Installing collected packages: gplearn\n",
            "Successfully installed gplearn-0.4.2\n"
          ]
        }
      ],
      "source": [
        "!pip install gplearn"
      ]
    },
    {
      "cell_type": "code",
      "execution_count": 2,
      "metadata": {
        "colab": {
          "base_uri": "https://localhost:8080/"
        },
        "id": "Q4q6YxhQefZz",
        "outputId": "d0452934-39f6-4fa1-cea6-c10bc1f6ed00"
      },
      "outputs": [
        {
          "output_type": "stream",
          "name": "stdout",
          "text": [
            "Requirement already satisfied: graphviz in /usr/local/lib/python3.11/dist-packages (0.20.3)\n"
          ]
        }
      ],
      "source": [
        "!pip install graphviz"
      ]
    },
    {
      "cell_type": "code",
      "execution_count": 3,
      "metadata": {
        "id": "pBhW9Zp8P13h"
      },
      "outputs": [],
      "source": [
        "%matplotlib inline\n",
        "from gplearn.genetic import SymbolicRegressor\n",
        "from gplearn.genetic import SymbolicClassifier\n",
        "from sklearn.ensemble import RandomForestRegressor\n",
        "from sklearn.tree import DecisionTreeRegressor\n",
        "from sklearn.utils.random import check_random_state\n",
        "from sklearn.datasets import load_breast_cancer\n",
        "from sklearn.tree import DecisionTreeClassifier\n",
        "from sklearn.metrics import roc_auc_score\n",
        "import matplotlib.pyplot as plt\n",
        "import numpy as np\n",
        "import graphviz"
      ]
    },
    {
      "cell_type": "markdown",
      "metadata": {
        "id": "-oI7y4PuefZ0"
      },
      "source": [
        "## Regression"
      ]
    },
    {
      "cell_type": "markdown",
      "metadata": {
        "id": "Sc3eqoEaefZ1"
      },
      "source": [
        "In the first example, we will train a symbolic regression using genetic programming.  We will try to fit our model to a set of points.\n"
      ]
    },
    {
      "cell_type": "markdown",
      "metadata": {
        "id": "v0KCDbr61OjM"
      },
      "source": [
        "First, we create the function for our data and make our training and test data with the function `fitme`. Given an input `x`, our target function will be a simple cubic function: $\\frac{x^3}{10} + x^2$.\n",
        "\n",
        "We’ll make a training set `X_train` for this function consisting of 50 `uniform` random `xs` between -10 and 10. We run these points through our target `fitme` function to get the corresponding targets, `y_train`.\n"
      ]
    },
    {
      "cell_type": "code",
      "execution_count": 11,
      "metadata": {
        "id": "XxKjFjGsM4pk"
      },
      "outputs": [],
      "source": [
        "def fitme(x):\n",
        "    return 0.1*x*x*x + x*x\n",
        "\n",
        "# Training samples\n",
        "X_train = np.random.uniform(-10, 10, (50,1))\n",
        "y_train = [fitme(X) for X in X_train]\n",
        "\n",
        "# Testing samples\n",
        "X_test = np.random.uniform(-10, 10, (50,1))\n",
        "y_test = [fitme(X) for X in X_test]"
      ]
    },
    {
      "cell_type": "markdown",
      "metadata": {
        "id": "AiBDHHOp6ad4"
      },
      "source": [
        "We will plot the data below"
      ]
    },
    {
      "cell_type": "code",
      "execution_count": 5,
      "metadata": {
        "colab": {
          "base_uri": "https://localhost:8080/",
          "height": 472
        },
        "id": "Q8Pi7NXvUQTc",
        "outputId": "4b07b52b-096a-419d-a528-5c8cd3289a86"
      },
      "outputs": [
        {
          "output_type": "display_data",
          "data": {
            "text/plain": [
              "<Figure size 640x480 with 1 Axes>"
            ],
            "image/png": "[encoded data removed]"
          },
          "metadata": {}
        }
      ],
      "source": [
        "plt.scatter(X_train, y_train)\n",
        "plt.title('Target distance')\n",
        "plt.xlabel('angle')\n",
        "plt.ylabel('distance')\n",
        "plt.show()"
      ]
    },
    {
      "cell_type": "markdown",
      "metadata": {
        "id": "TWABsAFkefZ3"
      },
      "source": [
        "Let's fit a model to this function using genetic programming. Our genetic-programming-based estimator, `est_gp` is a “symbolic regressor”. That is to say, we’re solving a regression problem by finding a symbolic expression --- a little piece of a program."
      ]
    },
    {
      "cell_type": "markdown",
      "metadata": {
        "id": "h-zroV7F6cs0"
      },
      "source": [
        "The program it finds will use only two operators: `add` for add and `mul` for multiply. A program can use as many of these operators as necessary. However, there’s a tradeoff in the search between accurately matching the training data and being parsimonious --- using a small expression.  The `parsimony_coefficient` tells the genetic programming search how much weight to put on parsimony (complexity) compared to accuracy. Parsimony coefficient can be any non-negative value, where smaller numbers for parsimony tend to result in much bigger programs created."
      ]
    },
    {
      "cell_type": "code",
      "execution_count": 7,
      "metadata": {
        "colab": {
          "base_uri": "https://localhost:8080/",
          "height": 170
        },
        "id": "hH3deSG8M4vQ",
        "outputId": "05890682-bf71-4346-a105-e4b47455a6a3"
      },
      "outputs": [
        {
          "output_type": "stream",
          "name": "stderr",
          "text": [
            "/usr/local/lib/python3.11/dist-packages/sklearn/base.py:474: FutureWarning: `BaseEstimator._validate_data` is deprecated in 1.6 and will be removed in 1.7. Use `sklearn.utils.validation.validate_data` instead. This function becomes public and is part of the scikit-learn developer API.\n",
            "  warnings.warn(\n",
            "/usr/local/lib/python3.11/dist-packages/sklearn/utils/validation.py:1408: DataConversionWarning: A column-vector y was passed when a 1d array was expected. Please change the shape of y to (n_samples, ), for example using ravel().\n",
            "  y = column_or_1d(y, warn=True)\n"
          ]
        },
        {
          "output_type": "execute_result",
          "data": {
            "text/plain": [
              "SymbolicRegressor(function_set=('add', 'mul'), parsimony_coefficient=0.1)"
            ],
            "text/html": [
              "<style>#sk-container-id-1 {\n",
              "  /* Definition of color scheme common for light and dark mode */\n",
              "  --sklearn-color-text: #000;\n",
              "  --sklearn-color-text-muted: #666;\n",
              "  --sklearn-color-line: gray;\n",
              "  /* Definition of color scheme for unfitted estimators */\n",
              "  --sklearn-color-unfitted-level-0: #fff5e6;\n",
              "  --sklearn-color-unfitted-level-1: #f6e4d2;\n",
              "  --sklearn-color-unfitted-level-2: #ffe0b3;\n",
              "  --sklearn-color-unfitted-level-3: chocolate;\n",
              "  /* Definition of color scheme for fitted estimators */\n",
              "  --sklearn-color-fitted-level-0: #f0f8ff;\n",
              "  --sklearn-color-fitted-level-1: #d4ebff;\n",
              "  --sklearn-color-fitted-level-2: #b3dbfd;\n",
              "  --sklearn-color-fitted-level-3: cornflowerblue;\n",
              "\n",
              "  /* Specific color for light theme */\n",
              "  --sklearn-color-text-on-default-background: var(--sg-text-color, var(--theme-code-foreground, var(--jp-content-font-color1, black)));\n",
              "  --sklearn-color-background: var(--sg-background-color, var(--theme-background, var(--jp-layout-color0, white)));\n",
              "  --sklearn-color-border-box: var(--sg-text-color, var(--theme-code-foreground, var(--jp-content-font-color1, black)));\n",
              "  --sklearn-color-icon: #696969;\n",
              "\n",
              "  @media (prefers-color-scheme: dark) {\n",
              "    /* Redefinition of color scheme for dark theme */\n",
              "    --sklearn-color-text-on-default-background: var(--sg-text-color, var(--theme-code-foreground, var(--jp-content-font-color1, white)));\n",
              "    --sklearn-color-background: var(--sg-background-color, var(--theme-background, var(--jp-layout-color0, #111)));\n",
              "    --sklearn-color-border-box: var(--sg-text-color, var(--theme-code-foreground, var(--jp-content-font-color1, white)));\n",
              "    --sklearn-color-icon: #878787;\n",
              "  }\n",
              "}\n",
              "\n",
              "#sk-container-id-1 {\n",
              "  color: var(--sklearn-color-text);\n",
              "}\n",
              "\n",
              "#sk-container-id-1 pre {\n",
              "  padding: 0;\n",
              "}\n",
              "\n",
              "#sk-container-id-1 input.sk-hidden--visually {\n",
              "  border: 0;\n",
              "  clip: rect(1px 1px 1px 1px);\n",
              "  clip: rect(1px, 1px, 1px, 1px);\n",
              "  height: 1px;\n",
              "  margin: -1px;\n",
              "  overflow: hidden;\n",
              "  padding: 0;\n",
              "  position: absolute;\n",
              "  width: 1px;\n",
              "}\n",
              "\n",
              "#sk-container-id-1 div.sk-dashed-wrapped {\n",
              "  border: 1px dashed var(--sklearn-color-line);\n",
              "  margin: 0 0.4em 0.5em 0.4em;\n",
              "  box-sizing: border-box;\n",
              "  padding-bottom: 0.4em;\n",
              "  background-color: var(--sklearn-color-background);\n",
              "}\n",
              "\n",
              "#sk-container-id-1 div.sk-container {\n",
              "  /* jupyter's `normalize.less` sets `[hidden] { display: none; }`\n",
              "     but bootstrap.min.css set `[hidden] { display: none !important; }`\n",
              "     so we also need the `!important` here to be able to override the\n",
              "     default hidden behavior on the sphinx rendered scikit-learn.org.\n",
              "     See: https://github.com/scikit-learn/scikit-learn/issues/21755 */\n",
              "  display: inline-block !important;\n",
              "  position: relative;\n",
              "}\n",
              "\n",
              "#sk-container-id-1 div.sk-text-repr-fallback {\n",
              "  display: none;\n",
              "}\n",
              "\n",
              "div.sk-parallel-item,\n",
              "div.sk-serial,\n",
              "div.sk-item {\n",
              "  /* draw centered vertical line to link estimators */\n",
              "  background-image: linear-gradient(var(--sklearn-color-text-on-default-background), var(--sklearn-color-text-on-default-background));\n",
              "  background-size: 2px 100%;\n",
              "  background-repeat: no-repeat;\n",
              "  background-position: center center;\n",
              "}\n",
              "\n",
              "/* Parallel-specific style estimator block */\n",
              "\n",
              "#sk-container-id-1 div.sk-parallel-item::after {\n",
              "  content: \"\";\n",
              "  width: 100%;\n",
              "  border-bottom: 2px solid var(--sklearn-color-text-on-default-background);\n",
              "  flex-grow: 1;\n",
              "}\n",
              "\n",
              "#sk-container-id-1 div.sk-parallel {\n",
              "  display: flex;\n",
              "  align-items: stretch;\n",
              "  justify-content: center;\n",
              "  background-color: var(--sklearn-color-background);\n",
              "  position: relative;\n",
              "}\n",
              "\n",
              "#sk-container-id-1 div.sk-parallel-item {\n",
              "  display: flex;\n",
              "  flex-direction: column;\n",
              "}\n",
              "\n",
              "#sk-container-id-1 div.sk-parallel-item:first-child::after {\n",
              "  align-self: flex-end;\n",
              "  width: 50%;\n",
              "}\n",
              "\n",
              "#sk-container-id-1 div.sk-parallel-item:last-child::after {\n",
              "  align-self: flex-start;\n",
              "  width: 50%;\n",
              "}\n",
              "\n",
              "#sk-container-id-1 div.sk-parallel-item:only-child::after {\n",
              "  width: 0;\n",
              "}\n",
              "\n",
              "/* Serial-specific style estimator block */\n",
              "\n",
              "#sk-container-id-1 div.sk-serial {\n",
              "  display: flex;\n",
              "  flex-direction: column;\n",
              "  align-items: center;\n",
              "  background-color: var(--sklearn-color-background);\n",
              "  padding-right: 1em;\n",
              "  padding-left: 1em;\n",
              "}\n",
              "\n",
              "\n",
              "/* Toggleable style: style used for estimator/Pipeline/ColumnTransformer box that is\n",
              "clickable and can be expanded/collapsed.\n",
              "- Pipeline and ColumnTransformer use this feature and define the default style\n",
              "- Estimators will overwrite some part of the style using the `sk-estimator` class\n",
              "*/\n",
              "\n",
              "/* Pipeline and ColumnTransformer style (default) */\n",
              "\n",
              "#sk-container-id-1 div.sk-toggleable {\n",
              "  /* Default theme specific background. It is overwritten whether we have a\n",
              "  specific estimator or a Pipeline/ColumnTransformer */\n",
              "  background-color: var(--sklearn-color-background);\n",
              "}\n",
              "\n",
              "/* Toggleable label */\n",
              "#sk-container-id-1 label.sk-toggleable__label {\n",
              "  cursor: pointer;\n",
              "  display: flex;\n",
              "  width: 100%;\n",
              "  margin-bottom: 0;\n",
              "  padding: 0.5em;\n",
              "  box-sizing: border-box;\n",
              "  text-align: center;\n",
              "  align-items: start;\n",
              "  justify-content: space-between;\n",
              "  gap: 0.5em;\n",
              "}\n",
              "\n",
              "#sk-container-id-1 label.sk-toggleable__label .caption {\n",
              "  font-size: 0.6rem;\n",
              "  font-weight: lighter;\n",
              "  color: var(--sklearn-color-text-muted);\n",
              "}\n",
              "\n",
              "#sk-container-id-1 label.sk-toggleable__label-arrow:before {\n",
              "  /* Arrow on the left of the label */\n",
              "  content: \"▸\";\n",
              "  float: left;\n",
              "  margin-right: 0.25em;\n",
              "  color: var(--sklearn-color-icon);\n",
              "}\n",
              "\n",
              "#sk-container-id-1 label.sk-toggleable__label-arrow:hover:before {\n",
              "  color: var(--sklearn-color-text);\n",
              "}\n",
              "\n",
              "/* Toggleable content - dropdown */\n",
              "\n",
              "#sk-container-id-1 div.sk-toggleable__content {\n",
              "  max-height: 0;\n",
              "  max-width: 0;\n",
              "  overflow: hidden;\n",
              "  text-align: left;\n",
              "  /* unfitted */\n",
              "  background-color: var(--sklearn-color-unfitted-level-0);\n",
              "}\n",
              "\n",
              "#sk-container-id-1 div.sk-toggleable__content.fitted {\n",
              "  /* fitted */\n",
              "  background-color: var(--sklearn-color-fitted-level-0);\n",
              "}\n",
              "\n",
              "#sk-container-id-1 div.sk-toggleable__content pre {\n",
              "  margin: 0.2em;\n",
              "  border-radius: 0.25em;\n",
              "  color: var(--sklearn-color-text);\n",
              "  /* unfitted */\n",
              "  background-color: var(--sklearn-color-unfitted-level-0);\n",
              "}\n",
              "\n",
              "#sk-container-id-1 div.sk-toggleable__content.fitted pre {\n",
              "  /* unfitted */\n",
              "  background-color: var(--sklearn-color-fitted-level-0);\n",
              "}\n",
              "\n",
              "#sk-container-id-1 input.sk-toggleable__control:checked~div.sk-toggleable__content {\n",
              "  /* Expand drop-down */\n",
              "  max-height: 200px;\n",
              "  max-width: 100%;\n",
              "  overflow: auto;\n",
              "}\n",
              "\n",
              "#sk-container-id-1 input.sk-toggleable__control:checked~label.sk-toggleable__label-arrow:before {\n",
              "  content: \"▾\";\n",
              "}\n",
              "\n",
              "/* Pipeline/ColumnTransformer-specific style */\n",
              "\n",
              "#sk-container-id-1 div.sk-label input.sk-toggleable__control:checked~label.sk-toggleable__label {\n",
              "  color: var(--sklearn-color-text);\n",
              "  background-color: var(--sklearn-color-unfitted-level-2);\n",
              "}\n",
              "\n",
              "#sk-container-id-1 div.sk-label.fitted input.sk-toggleable__control:checked~label.sk-toggleable__label {\n",
              "  background-color: var(--sklearn-color-fitted-level-2);\n",
              "}\n",
              "\n",
              "/* Estimator-specific style */\n",
              "\n",
              "/* Colorize estimator box */\n",
              "#sk-container-id-1 div.sk-estimator input.sk-toggleable__control:checked~label.sk-toggleable__label {\n",
              "  /* unfitted */\n",
              "  background-color: var(--sklearn-color-unfitted-level-2);\n",
              "}\n",
              "\n",
              "#sk-container-id-1 div.sk-estimator.fitted input.sk-toggleable__control:checked~label.sk-toggleable__label {\n",
              "  /* fitted */\n",
              "  background-color: var(--sklearn-color-fitted-level-2);\n",
              "}\n",
              "\n",
              "#sk-container-id-1 div.sk-label label.sk-toggleable__label,\n",
              "#sk-container-id-1 div.sk-label label {\n",
              "  /* The background is the default theme color */\n",
              "  color: var(--sklearn-color-text-on-default-background);\n",
              "}\n",
              "\n",
              "/* On hover, darken the color of the background */\n",
              "#sk-container-id-1 div.sk-label:hover label.sk-toggleable__label {\n",
              "  color: var(--sklearn-color-text);\n",
              "  background-color: var(--sklearn-color-unfitted-level-2);\n",
              "}\n",
              "\n",
              "/* Label box, darken color on hover, fitted */\n",
              "#sk-container-id-1 div.sk-label.fitted:hover label.sk-toggleable__label.fitted {\n",
              "  color: var(--sklearn-color-text);\n",
              "  background-color: var(--sklearn-color-fitted-level-2);\n",
              "}\n",
              "\n",
              "/* Estimator label */\n",
              "\n",
              "#sk-container-id-1 div.sk-label label {\n",
              "  font-family: monospace;\n",
              "  font-weight: bold;\n",
              "  display: inline-block;\n",
              "  line-height: 1.2em;\n",
              "}\n",
              "\n",
              "#sk-container-id-1 div.sk-label-container {\n",
              "  text-align: center;\n",
              "}\n",
              "\n",
              "/* Estimator-specific */\n",
              "#sk-container-id-1 div.sk-estimator {\n",
              "  font-family: monospace;\n",
              "  border: 1px dotted var(--sklearn-color-border-box);\n",
              "  border-radius: 0.25em;\n",
              "  box-sizing: border-box;\n",
              "  margin-bottom: 0.5em;\n",
              "  /* unfitted */\n",
              "  background-color: var(--sklearn-color-unfitted-level-0);\n",
              "}\n",
              "\n",
              "#sk-container-id-1 div.sk-estimator.fitted {\n",
              "  /* fitted */\n",
              "  background-color: var(--sklearn-color-fitted-level-0);\n",
              "}\n",
              "\n",
              "/* on hover */\n",
              "#sk-container-id-1 div.sk-estimator:hover {\n",
              "  /* unfitted */\n",
              "  background-color: var(--sklearn-color-unfitted-level-2);\n",
              "}\n",
              "\n",
              "#sk-container-id-1 div.sk-estimator.fitted:hover {\n",
              "  /* fitted */\n",
              "  background-color: var(--sklearn-color-fitted-level-2);\n",
              "}\n",
              "\n",
              "/* Specification for estimator info (e.g. \"i\" and \"?\") */\n",
              "\n",
              "/* Common style for \"i\" and \"?\" */\n",
              "\n",
              ".sk-estimator-doc-link,\n",
              "a:link.sk-estimator-doc-link,\n",
              "a:visited.sk-estimator-doc-link {\n",
              "  float: right;\n",
              "  font-size: smaller;\n",
              "  line-height: 1em;\n",
              "  font-family: monospace;\n",
              "  background-color: var(--sklearn-color-background);\n",
              "  border-radius: 1em;\n",
              "  height: 1em;\n",
              "  width: 1em;\n",
              "  text-decoration: none !important;\n",
              "  margin-left: 0.5em;\n",
              "  text-align: center;\n",
              "  /* unfitted */\n",
              "  border: var(--sklearn-color-unfitted-level-1) 1pt solid;\n",
              "  color: var(--sklearn-color-unfitted-level-1);\n",
              "}\n",
              "\n",
              ".sk-estimator-doc-link.fitted,\n",
              "a:link.sk-estimator-doc-link.fitted,\n",
              "a:visited.sk-estimator-doc-link.fitted {\n",
              "  /* fitted */\n",
              "  border: var(--sklearn-color-fitted-level-1) 1pt solid;\n",
              "  color: var(--sklearn-color-fitted-level-1);\n",
              "}\n",
              "\n",
              "/* On hover */\n",
              "div.sk-estimator:hover .sk-estimator-doc-link:hover,\n",
              ".sk-estimator-doc-link:hover,\n",
              "div.sk-label-container:hover .sk-estimator-doc-link:hover,\n",
              ".sk-estimator-doc-link:hover {\n",
              "  /* unfitted */\n",
              "  background-color: var(--sklearn-color-unfitted-level-3);\n",
              "  color: var(--sklearn-color-background);\n",
              "  text-decoration: none;\n",
              "}\n",
              "\n",
              "div.sk-estimator.fitted:hover .sk-estimator-doc-link.fitted:hover,\n",
              ".sk-estimator-doc-link.fitted:hover,\n",
              "div.sk-label-container:hover .sk-estimator-doc-link.fitted:hover,\n",
              ".sk-estimator-doc-link.fitted:hover {\n",
              "  /* fitted */\n",
              "  background-color: var(--sklearn-color-fitted-level-3);\n",
              "  color: var(--sklearn-color-background);\n",
              "  text-decoration: none;\n",
              "}\n",
              "\n",
              "/* Span, style for the box shown on hovering the info icon */\n",
              ".sk-estimator-doc-link span {\n",
              "  display: none;\n",
              "  z-index: 9999;\n",
              "  position: relative;\n",
              "  font-weight: normal;\n",
              "  right: .2ex;\n",
              "  padding: .5ex;\n",
              "  margin: .5ex;\n",
              "  width: min-content;\n",
              "  min-width: 20ex;\n",
              "  max-width: 50ex;\n",
              "  color: var(--sklearn-color-text);\n",
              "  box-shadow: 2pt 2pt 4pt #999;\n",
              "  /* unfitted */\n",
              "  background: var(--sklearn-color-unfitted-level-0);\n",
              "  border: .5pt solid var(--sklearn-color-unfitted-level-3);\n",
              "}\n",
              "\n",
              ".sk-estimator-doc-link.fitted span {\n",
              "  /* fitted */\n",
              "  background: var(--sklearn-color-fitted-level-0);\n",
              "  border: var(--sklearn-color-fitted-level-3);\n",
              "}\n",
              "\n",
              ".sk-estimator-doc-link:hover span {\n",
              "  display: block;\n",
              "}\n",
              "\n",
              "/* \"?\"-specific style due to the `<a>` HTML tag */\n",
              "\n",
              "#sk-container-id-1 a.estimator_doc_link {\n",
              "  float: right;\n",
              "  font-size: 1rem;\n",
              "  line-height: 1em;\n",
              "  font-family: monospace;\n",
              "  background-color: var(--sklearn-color-background);\n",
              "  border-radius: 1rem;\n",
              "  height: 1rem;\n",
              "  width: 1rem;\n",
              "  text-decoration: none;\n",
              "  /* unfitted */\n",
              "  color: var(--sklearn-color-unfitted-level-1);\n",
              "  border: var(--sklearn-color-unfitted-level-1) 1pt solid;\n",
              "}\n",
              "\n",
              "#sk-container-id-1 a.estimator_doc_link.fitted {\n",
              "  /* fitted */\n",
              "  border: var(--sklearn-color-fitted-level-1) 1pt solid;\n",
              "  color: var(--sklearn-color-fitted-level-1);\n",
              "}\n",
              "\n",
              "/* On hover */\n",
              "#sk-container-id-1 a.estimator_doc_link:hover {\n",
              "  /* unfitted */\n",
              "  background-color: var(--sklearn-color-unfitted-level-3);\n",
              "  color: var(--sklearn-color-background);\n",
              "  text-decoration: none;\n",
              "}\n",
              "\n",
              "#sk-container-id-1 a.estimator_doc_link.fitted:hover {\n",
              "  /* fitted */\n",
              "  background-color: var(--sklearn-color-fitted-level-3);\n",
              "}\n",
              "</style><div id=\"sk-container-id-1\" class=\"sk-top-container\"><div class=\"sk-text-repr-fallback\"><pre>add(mul(mul(mul(mul(0.966, X0), mul(X0, 0.214)), add(0.266, -0.017)), add(mul(0.966, mul(0.966, X0)), X0)), mul(X0, X0))</pre><b>In a Jupyter environment, please rerun this cell to show the HTML representation or trust the notebook. <br />On GitHub, the HTML representation is unable to render, please try loading this page with nbviewer.org.</b></div><div class=\"sk-container\" hidden><div class=\"sk-item\"><div class=\"sk-estimator fitted sk-toggleable\"><input class=\"sk-toggleable__control sk-hidden--visually\" id=\"sk-estimator-id-1\" type=\"checkbox\" checked><label for=\"sk-estimator-id-1\" class=\"sk-toggleable__label fitted sk-toggleable__label-arrow\"><div><div>SymbolicRegressor</div></div><div><span class=\"sk-estimator-doc-link fitted\">i<span>Fitted</span></span></div></label><div class=\"sk-toggleable__content fitted\"><pre>add(mul(mul(mul(mul(0.966, X0), mul(X0, 0.214)), add(0.266, -0.017)), add(mul(0.966, mul(0.966, X0)), X0)), mul(X0, X0))</pre></div> </div></div></div></div>"
            ]
          },
          "metadata": {},
          "execution_count": 7
        }
      ],
      "source": [
        "est_gp = SymbolicRegressor(population_size=1000,parsimony_coefficient=0.1,\n",
        "                           function_set=('add', 'mul'))\n",
        "est_gp.fit(X_train, y_train)"
      ]
    },
    {
      "cell_type": "markdown",
      "metadata": {
        "id": "um9DW3om6prk"
      },
      "source": [
        "We can now plot the performance of the model on the test set"
      ]
    },
    {
      "cell_type": "code",
      "execution_count": 8,
      "metadata": {
        "colab": {
          "base_uri": "https://localhost:8080/",
          "height": 472
        },
        "id": "o2DBso_iXjKB",
        "outputId": "941cc0e0-5c95-48f7-e261-a95029bb98b3"
      },
      "outputs": [
        {
          "output_type": "display_data",
          "data": {
            "text/plain": [
              "<Figure size 640x480 with 1 Axes>"
            ],
            "image/png": "[encoded data removed]"
          },
          "metadata": {}
        }
      ],
      "source": [
        "X_lots = np.reshape(np.sort(np.random.uniform(-10, 10, 250)),(-1,1))\n",
        "\n",
        "y_gp = est_gp.predict(X_lots)\n",
        "\n",
        "plt.scatter(X_test, y_test)\n",
        "plt.plot(X_lots, y_gp)\n",
        "plt.title('Target distance')\n",
        "plt.xlabel('angle')\n",
        "plt.ylabel('distance')\n",
        "plt.show()"
      ]
    },
    {
      "cell_type": "markdown",
      "metadata": {
        "id": "nmK768JP6_uT"
      },
      "source": [
        "Finally we print the function learned by the genetic program below"
      ]
    },
    {
      "cell_type": "code",
      "execution_count": 9,
      "metadata": {
        "colab": {
          "base_uri": "https://localhost:8080/"
        },
        "id": "tSrdTemIM4yO",
        "outputId": "b04d4faa-e091-43d5-cb3c-dde0c31f011a"
      },
      "outputs": [
        {
          "output_type": "stream",
          "name": "stdout",
          "text": [
            "add(mul(mul(mul(mul(0.966, X0), mul(X0, 0.214)), add(0.266, -0.017)), add(mul(0.966, mul(0.966, X0)), X0)), mul(X0, X0))\n"
          ]
        }
      ],
      "source": [
        "print(est_gp._program)"
      ]
    },
    {
      "cell_type": "code",
      "execution_count": 10,
      "metadata": {
        "colab": {
          "base_uri": "https://localhost:8080/",
          "height": 560
        },
        "id": "0-XtWPcvefZ5",
        "outputId": "89b0475c-38fd-47ab-ad63-3334654959fd"
      },
      "outputs": [
        {
          "output_type": "execute_result",
          "data": {
            "image/svg+xml": "<?xml version=\"1.0\" encoding=\"UTF-8\" standalone=\"no\"?>\n<!DOCTYPE svg PUBLIC \"-//W3C//DTD SVG 1.1//EN\"\n \"http://www.w3.org/Graphics/SVG/1.1/DTD/svg11.dtd\">\n<!-- Generated by graphviz version 2.43.0 (0)\n -->\n<!-- Title: program Pages: 1 -->\n<svg width=\"598pt\" height=\"404pt\"\n viewBox=\"0.00 0.00 597.55 404.00\" xmlns=\"http://www.w3.org/2000/svg\" xmlns:xlink=\"http://www.w3.org/1999/xlink\">\n<g id=\"graph0\" class=\"graph\" transform=\"scale(1 1) rotate(0) translate(4 400)\">\n<title>program</title>\n<polygon fill=\"white\" stroke=\"transparent\" points=\"-4,4 -4,-400 593.55,-400 593.55,4 -4,4\"/>\n<!-- 0 -->\n<g id=\"node1\" class=\"node\">\n<title>0</title>\n<ellipse fill=\"#136ed4\" stroke=\"black\" cx=\"454.55\" cy=\"-378\" rx=\"27\" ry=\"18\"/>\n<text text-anchor=\"middle\" x=\"454.55\" y=\"-374.3\" font-family=\"Times,serif\" font-size=\"14.00\">add</text>\n</g>\n<!-- 1 -->\n<g id=\"node2\" class=\"node\">\n<title>1</title>\n<ellipse fill=\"#136ed4\" stroke=\"black\" cx=\"418.55\" cy=\"-306\" rx=\"27\" ry=\"18\"/>\n<text text-anchor=\"middle\" x=\"418.55\" y=\"-302.3\" font-family=\"Times,serif\" font-size=\"14.00\">mul</text>\n</g>\n<!-- 0&#45;&gt;1 -->\n<g id=\"edge22\" class=\"edge\">\n<title>0&#45;&gt;1</title>\n<path fill=\"none\" stroke=\"black\" d=\"M446.2,-360.76C441.84,-352.28 436.4,-341.71 431.51,-332.2\"/>\n<polygon fill=\"black\" stroke=\"black\" points=\"434.54,-330.44 426.85,-323.15 428.31,-333.64 434.54,-330.44\"/>\n</g>\n<!-- 20 -->\n<g id=\"node21\" class=\"node\">\n<title>20</title>\n<ellipse fill=\"#136ed4\" stroke=\"black\" cx=\"490.55\" cy=\"-306\" rx=\"27\" ry=\"18\"/>\n<text text-anchor=\"middle\" x=\"490.55\" y=\"-302.3\" font-family=\"Times,serif\" font-size=\"14.00\">mul</text>\n</g>\n<!-- 0&#45;&gt;20 -->\n<g id=\"edge21\" class=\"edge\">\n<title>0&#45;&gt;20</title>\n<path fill=\"none\" stroke=\"black\" d=\"M462.9,-360.76C467.26,-352.28 472.69,-341.71 477.59,-332.2\"/>\n<polygon fill=\"black\" stroke=\"black\" points=\"480.78,-333.64 482.24,-323.15 474.56,-330.44 480.78,-333.64\"/>\n</g>\n<!-- 2 -->\n<g id=\"node3\" class=\"node\">\n<title>2</title>\n<ellipse fill=\"#136ed4\" stroke=\"black\" cx=\"295.55\" cy=\"-234\" rx=\"27\" ry=\"18\"/>\n<text text-anchor=\"middle\" x=\"295.55\" y=\"-230.3\" font-family=\"Times,serif\" font-size=\"14.00\">mul</text>\n</g>\n<!-- 1&#45;&gt;2 -->\n<g id=\"edge18\" class=\"edge\">\n<title>1&#45;&gt;2</title>\n<path fill=\"none\" stroke=\"black\" d=\"M398.51,-293.6C378.41,-282.16 347.24,-264.42 324.46,-251.46\"/>\n<polygon fill=\"black\" stroke=\"black\" points=\"326,-248.3 315.57,-246.4 322.53,-254.39 326,-248.3\"/>\n</g>\n<!-- 13 -->\n<g id=\"node14\" class=\"node\">\n<title>13</title>\n<ellipse fill=\"#136ed4\" stroke=\"black\" cx=\"418.55\" cy=\"-234\" rx=\"27\" ry=\"18\"/>\n<text text-anchor=\"middle\" x=\"418.55\" y=\"-230.3\" font-family=\"Times,serif\" font-size=\"14.00\">add</text>\n</g>\n<!-- 1&#45;&gt;13 -->\n<g id=\"edge17\" class=\"edge\">\n<title>1&#45;&gt;13</title>\n<path fill=\"none\" stroke=\"black\" d=\"M418.55,-287.7C418.55,-279.98 418.55,-270.71 418.55,-262.11\"/>\n<polygon fill=\"black\" stroke=\"black\" points=\"422.05,-262.1 418.55,-252.1 415.05,-262.1 422.05,-262.1\"/>\n</g>\n<!-- 3 -->\n<g id=\"node4\" class=\"node\">\n<title>3</title>\n<ellipse fill=\"#136ed4\" stroke=\"black\" cx=\"178.55\" cy=\"-162\" rx=\"27\" ry=\"18\"/>\n<text text-anchor=\"middle\" x=\"178.55\" y=\"-158.3\" font-family=\"Times,serif\" font-size=\"14.00\">mul</text>\n</g>\n<!-- 2&#45;&gt;3 -->\n<g id=\"edge10\" class=\"edge\">\n<title>2&#45;&gt;3</title>\n<path fill=\"none\" stroke=\"black\" d=\"M275.96,-221.28C257.07,-209.98 228.25,-192.74 206.86,-179.94\"/>\n<polygon fill=\"black\" stroke=\"black\" points=\"208.57,-176.89 198.19,-174.75 204.98,-182.89 208.57,-176.89\"/>\n</g>\n<!-- 10 -->\n<g id=\"node11\" class=\"node\">\n<title>10</title>\n<ellipse fill=\"#136ed4\" stroke=\"black\" cx=\"295.55\" cy=\"-162\" rx=\"27\" ry=\"18\"/>\n<text text-anchor=\"middle\" x=\"295.55\" y=\"-158.3\" font-family=\"Times,serif\" font-size=\"14.00\">add</text>\n</g>\n<!-- 2&#45;&gt;10 -->\n<g id=\"edge9\" class=\"edge\">\n<title>2&#45;&gt;10</title>\n<path fill=\"none\" stroke=\"black\" d=\"M295.55,-215.7C295.55,-207.98 295.55,-198.71 295.55,-190.11\"/>\n<polygon fill=\"black\" stroke=\"black\" points=\"299.05,-190.1 295.55,-180.1 292.05,-190.1 299.05,-190.1\"/>\n</g>\n<!-- 4 -->\n<g id=\"node5\" class=\"node\">\n<title>4</title>\n<ellipse fill=\"#136ed4\" stroke=\"black\" cx=\"106.55\" cy=\"-90\" rx=\"27\" ry=\"18\"/>\n<text text-anchor=\"middle\" x=\"106.55\" y=\"-86.3\" font-family=\"Times,serif\" font-size=\"14.00\">mul</text>\n</g>\n<!-- 3&#45;&gt;4 -->\n<g id=\"edge6\" class=\"edge\">\n<title>3&#45;&gt;4</title>\n<path fill=\"none\" stroke=\"black\" d=\"M163.98,-146.83C153.8,-136.94 140.02,-123.55 128.52,-112.36\"/>\n<polygon fill=\"black\" stroke=\"black\" points=\"130.95,-109.85 121.34,-105.38 126.07,-114.87 130.95,-109.85\"/>\n</g>\n<!-- 7 -->\n<g id=\"node8\" class=\"node\">\n<title>7</title>\n<ellipse fill=\"#136ed4\" stroke=\"black\" cx=\"178.55\" cy=\"-90\" rx=\"27\" ry=\"18\"/>\n<text text-anchor=\"middle\" x=\"178.55\" y=\"-86.3\" font-family=\"Times,serif\" font-size=\"14.00\">mul</text>\n</g>\n<!-- 3&#45;&gt;7 -->\n<g id=\"edge5\" class=\"edge\">\n<title>3&#45;&gt;7</title>\n<path fill=\"none\" stroke=\"black\" d=\"M178.55,-143.7C178.55,-135.98 178.55,-126.71 178.55,-118.11\"/>\n<polygon fill=\"black\" stroke=\"black\" points=\"182.05,-118.1 178.55,-108.1 175.05,-118.1 182.05,-118.1\"/>\n</g>\n<!-- 5 -->\n<g id=\"node6\" class=\"node\">\n<title>5</title>\n<ellipse fill=\"#60a6f6\" stroke=\"black\" cx=\"30.55\" cy=\"-18\" rx=\"30.59\" ry=\"18\"/>\n<text text-anchor=\"middle\" x=\"30.55\" y=\"-14.3\" font-family=\"Times,serif\" font-size=\"14.00\">0.966</text>\n</g>\n<!-- 4&#45;&gt;5 -->\n<g id=\"edge2\" class=\"edge\">\n<title>4&#45;&gt;5</title>\n<path fill=\"none\" stroke=\"black\" d=\"M91.17,-74.83C80.49,-65 66.08,-51.72 53.98,-40.58\"/>\n<polygon fill=\"black\" stroke=\"black\" points=\"56.15,-37.83 46.43,-33.63 51.41,-42.98 56.15,-37.83\"/>\n</g>\n<!-- 6 -->\n<g id=\"node7\" class=\"node\">\n<title>6</title>\n<ellipse fill=\"#60a6f6\" stroke=\"black\" cx=\"106.55\" cy=\"-18\" rx=\"27\" ry=\"18\"/>\n<text text-anchor=\"middle\" x=\"106.55\" y=\"-14.3\" font-family=\"Times,serif\" font-size=\"14.00\">X0</text>\n</g>\n<!-- 4&#45;&gt;6 -->\n<g id=\"edge1\" class=\"edge\">\n<title>4&#45;&gt;6</title>\n<path fill=\"none\" stroke=\"black\" d=\"M106.55,-71.7C106.55,-63.98 106.55,-54.71 106.55,-46.11\"/>\n<polygon fill=\"black\" stroke=\"black\" points=\"110.05,-46.1 106.55,-36.1 103.05,-46.1 110.05,-46.1\"/>\n</g>\n<!-- 8 -->\n<g id=\"node9\" class=\"node\">\n<title>8</title>\n<ellipse fill=\"#60a6f6\" stroke=\"black\" cx=\"178.55\" cy=\"-18\" rx=\"27\" ry=\"18\"/>\n<text text-anchor=\"middle\" x=\"178.55\" y=\"-14.3\" font-family=\"Times,serif\" font-size=\"14.00\">X0</text>\n</g>\n<!-- 7&#45;&gt;8 -->\n<g id=\"edge4\" class=\"edge\">\n<title>7&#45;&gt;8</title>\n<path fill=\"none\" stroke=\"black\" d=\"M178.55,-71.7C178.55,-63.98 178.55,-54.71 178.55,-46.11\"/>\n<polygon fill=\"black\" stroke=\"black\" points=\"182.05,-46.1 178.55,-36.1 175.05,-46.1 182.05,-46.1\"/>\n</g>\n<!-- 9 -->\n<g id=\"node10\" class=\"node\">\n<title>9</title>\n<ellipse fill=\"#60a6f6\" stroke=\"black\" cx=\"254.55\" cy=\"-18\" rx=\"30.59\" ry=\"18\"/>\n<text text-anchor=\"middle\" x=\"254.55\" y=\"-14.3\" font-family=\"Times,serif\" font-size=\"14.00\">0.214</text>\n</g>\n<!-- 7&#45;&gt;9 -->\n<g id=\"edge3\" class=\"edge\">\n<title>7&#45;&gt;9</title>\n<path fill=\"none\" stroke=\"black\" d=\"M193.93,-74.83C204.6,-65 219.02,-51.72 231.12,-40.58\"/>\n<polygon fill=\"black\" stroke=\"black\" points=\"233.68,-42.98 238.67,-33.63 228.94,-37.83 233.68,-42.98\"/>\n</g>\n<!-- 11 -->\n<g id=\"node12\" class=\"node\">\n<title>11</title>\n<ellipse fill=\"#60a6f6\" stroke=\"black\" cx=\"254.55\" cy=\"-90\" rx=\"30.59\" ry=\"18\"/>\n<text text-anchor=\"middle\" x=\"254.55\" y=\"-86.3\" font-family=\"Times,serif\" font-size=\"14.00\">0.266</text>\n</g>\n<!-- 10&#45;&gt;11 -->\n<g id=\"edge8\" class=\"edge\">\n<title>10&#45;&gt;11</title>\n<path fill=\"none\" stroke=\"black\" d=\"M286.04,-144.76C281.02,-136.19 274.75,-125.49 269.13,-115.9\"/>\n<polygon fill=\"black\" stroke=\"black\" points=\"272.08,-114.01 264,-107.15 266.04,-117.55 272.08,-114.01\"/>\n</g>\n<!-- 12 -->\n<g id=\"node13\" class=\"node\">\n<title>12</title>\n<ellipse fill=\"#60a6f6\" stroke=\"black\" cx=\"336.55\" cy=\"-90\" rx=\"33.6\" ry=\"18\"/>\n<text text-anchor=\"middle\" x=\"336.55\" y=\"-86.3\" font-family=\"Times,serif\" font-size=\"14.00\">&#45;0.017</text>\n</g>\n<!-- 10&#45;&gt;12 -->\n<g id=\"edge7\" class=\"edge\">\n<title>10&#45;&gt;12</title>\n<path fill=\"none\" stroke=\"black\" d=\"M305.06,-144.76C310,-136.32 316.16,-125.8 321.72,-116.31\"/>\n<polygon fill=\"black\" stroke=\"black\" points=\"324.77,-118.03 326.8,-107.63 318.73,-114.49 324.77,-118.03\"/>\n</g>\n<!-- 14 -->\n<g id=\"node15\" class=\"node\">\n<title>14</title>\n<ellipse fill=\"#136ed4\" stroke=\"black\" cx=\"418.55\" cy=\"-162\" rx=\"27\" ry=\"18\"/>\n<text text-anchor=\"middle\" x=\"418.55\" y=\"-158.3\" font-family=\"Times,serif\" font-size=\"14.00\">mul</text>\n</g>\n<!-- 13&#45;&gt;14 -->\n<g id=\"edge16\" class=\"edge\">\n<title>13&#45;&gt;14</title>\n<path fill=\"none\" stroke=\"black\" d=\"M418.55,-215.7C418.55,-207.98 418.55,-198.71 418.55,-190.11\"/>\n<polygon fill=\"black\" stroke=\"black\" points=\"422.05,-190.1 418.55,-180.1 415.05,-190.1 422.05,-190.1\"/>\n</g>\n<!-- 19 -->\n<g id=\"node20\" class=\"node\">\n<title>19</title>\n<ellipse fill=\"#60a6f6\" stroke=\"black\" cx=\"490.55\" cy=\"-162\" rx=\"27\" ry=\"18\"/>\n<text text-anchor=\"middle\" x=\"490.55\" y=\"-158.3\" font-family=\"Times,serif\" font-size=\"14.00\">X0</text>\n</g>\n<!-- 13&#45;&gt;19 -->\n<g id=\"edge15\" class=\"edge\">\n<title>13&#45;&gt;19</title>\n<path fill=\"none\" stroke=\"black\" d=\"M433.12,-218.83C443.3,-208.94 457.07,-195.55 468.58,-184.36\"/>\n<polygon fill=\"black\" stroke=\"black\" points=\"471.02,-186.87 475.75,-177.38 466.14,-181.85 471.02,-186.87\"/>\n</g>\n<!-- 15 -->\n<g id=\"node16\" class=\"node\">\n<title>15</title>\n<ellipse fill=\"#60a6f6\" stroke=\"black\" cx=\"418.55\" cy=\"-90\" rx=\"30.59\" ry=\"18\"/>\n<text text-anchor=\"middle\" x=\"418.55\" y=\"-86.3\" font-family=\"Times,serif\" font-size=\"14.00\">0.966</text>\n</g>\n<!-- 14&#45;&gt;15 -->\n<g id=\"edge14\" class=\"edge\">\n<title>14&#45;&gt;15</title>\n<path fill=\"none\" stroke=\"black\" d=\"M418.55,-143.7C418.55,-135.98 418.55,-126.71 418.55,-118.11\"/>\n<polygon fill=\"black\" stroke=\"black\" points=\"422.05,-118.1 418.55,-108.1 415.05,-118.1 422.05,-118.1\"/>\n</g>\n<!-- 16 -->\n<g id=\"node17\" class=\"node\">\n<title>16</title>\n<ellipse fill=\"#136ed4\" stroke=\"black\" cx=\"494.55\" cy=\"-90\" rx=\"27\" ry=\"18\"/>\n<text text-anchor=\"middle\" x=\"494.55\" y=\"-86.3\" font-family=\"Times,serif\" font-size=\"14.00\">mul</text>\n</g>\n<!-- 14&#45;&gt;16 -->\n<g id=\"edge13\" class=\"edge\">\n<title>14&#45;&gt;16</title>\n<path fill=\"none\" stroke=\"black\" d=\"M433.93,-146.83C444.74,-136.87 459.4,-123.37 471.6,-112.14\"/>\n<polygon fill=\"black\" stroke=\"black\" points=\"474.21,-114.49 479.19,-105.14 469.46,-109.34 474.21,-114.49\"/>\n</g>\n<!-- 17 -->\n<g id=\"node18\" class=\"node\">\n<title>17</title>\n<ellipse fill=\"#60a6f6\" stroke=\"black\" cx=\"456.55\" cy=\"-18\" rx=\"30.59\" ry=\"18\"/>\n<text text-anchor=\"middle\" x=\"456.55\" y=\"-14.3\" font-family=\"Times,serif\" font-size=\"14.00\">0.966</text>\n</g>\n<!-- 16&#45;&gt;17 -->\n<g id=\"edge12\" class=\"edge\">\n<title>16&#45;&gt;17</title>\n<path fill=\"none\" stroke=\"black\" d=\"M485.73,-72.76C481.2,-64.4 475.56,-54.02 470.45,-44.61\"/>\n<polygon fill=\"black\" stroke=\"black\" points=\"473.42,-42.75 465.58,-35.63 467.27,-46.09 473.42,-42.75\"/>\n</g>\n<!-- 18 -->\n<g id=\"node19\" class=\"node\">\n<title>18</title>\n<ellipse fill=\"#60a6f6\" stroke=\"black\" cx=\"532.55\" cy=\"-18\" rx=\"27\" ry=\"18\"/>\n<text text-anchor=\"middle\" x=\"532.55\" y=\"-14.3\" font-family=\"Times,serif\" font-size=\"14.00\">X0</text>\n</g>\n<!-- 16&#45;&gt;18 -->\n<g id=\"edge11\" class=\"edge\">\n<title>16&#45;&gt;18</title>\n<path fill=\"none\" stroke=\"black\" d=\"M503.36,-72.76C507.97,-64.28 513.7,-53.71 518.87,-44.2\"/>\n<polygon fill=\"black\" stroke=\"black\" points=\"522.09,-45.61 523.78,-35.15 515.93,-42.27 522.09,-45.61\"/>\n</g>\n<!-- 21 -->\n<g id=\"node22\" class=\"node\">\n<title>21</title>\n<ellipse fill=\"#60a6f6\" stroke=\"black\" cx=\"490.55\" cy=\"-234\" rx=\"27\" ry=\"18\"/>\n<text text-anchor=\"middle\" x=\"490.55\" y=\"-230.3\" font-family=\"Times,serif\" font-size=\"14.00\">X0</text>\n</g>\n<!-- 20&#45;&gt;21 -->\n<g id=\"edge20\" class=\"edge\">\n<title>20&#45;&gt;21</title>\n<path fill=\"none\" stroke=\"black\" d=\"M490.55,-287.7C490.55,-279.98 490.55,-270.71 490.55,-262.11\"/>\n<polygon fill=\"black\" stroke=\"black\" points=\"494.05,-262.1 490.55,-252.1 487.05,-262.1 494.05,-262.1\"/>\n</g>\n<!-- 22 -->\n<g id=\"node23\" class=\"node\">\n<title>22</title>\n<ellipse fill=\"#60a6f6\" stroke=\"black\" cx=\"562.55\" cy=\"-234\" rx=\"27\" ry=\"18\"/>\n<text text-anchor=\"middle\" x=\"562.55\" y=\"-230.3\" font-family=\"Times,serif\" font-size=\"14.00\">X0</text>\n</g>\n<!-- 20&#45;&gt;22 -->\n<g id=\"edge19\" class=\"edge\">\n<title>20&#45;&gt;22</title>\n<path fill=\"none\" stroke=\"black\" d=\"M505.12,-290.83C515.3,-280.94 529.07,-267.55 540.58,-256.36\"/>\n<polygon fill=\"black\" stroke=\"black\" points=\"543.02,-258.87 547.75,-249.38 538.14,-253.85 543.02,-258.87\"/>\n</g>\n</g>\n</svg>\n",
            "text/plain": [
              "<graphviz.sources.Source at 0x7d5286eb3b10>"
            ]
          },
          "metadata": {},
          "execution_count": 10
        }
      ],
      "source": [
        "dot_data = est_gp._program.export_graphviz()\n",
        "graph = graphviz.Source(dot_data)\n",
        "graph"
      ]
    },
    {
      "cell_type": "markdown",
      "metadata": {
        "id": "fzDJZ9aNefZ5"
      },
      "source": [
        "We expect to find an expression that is similar to the original:  $\\frac{x^3}{10} + x^2$. Do you?"
      ]
    },
    {
      "cell_type": "markdown",
      "metadata": {
        "id": "-1ZbROKnefZ5"
      },
      "source": [
        "<div class=\"alert alert-success\">\n",
        "    <h3>Exercise 1</h3>\n",
        "\n",
        "Change the function to $\\sin(\\frac{x^2}{10}) + \\cos(\\frac{x}{2})$. Can you reproduce this function using the same method? What parameters of the algorithm should change to make this easier?\n",
        "</div>"
      ]
    },
    {
      "cell_type": "code",
      "source": [
        "def fitme2(x):\n",
        "    return np.sin(x**2/10)+np.cos(x/2)\n",
        "\n",
        "# Training samples\n",
        "X_train = np.random.uniform(-10, 10, (50,1))\n",
        "y_train = [fitme2(X) for X in X_train]\n",
        "\n",
        "# Testing samples\n",
        "X_test = np.random.uniform(-10, 10, (50,1))\n",
        "y_test = [fitme2(X) for X in X_test]\n",
        "\n",
        "est_gp2 = SymbolicRegressor(population_size=5000,parsimony_coefficient=0.005,\n",
        "                           function_set=('add', 'mul', 'sin', 'cos'))\n",
        "est_gp2.fit(X_train, y_train)\n",
        "\n",
        "X_lots = np.reshape(np.sort(np.random.uniform(-10, 10, 250)),(-1,1))\n",
        "\n",
        "y_gp = est_gp2.predict(X_lots)\n",
        "\n",
        "plt.scatter(X_test, y_test)\n",
        "plt.plot(X_lots, y_gp)\n",
        "plt.title('Target distance')\n",
        "plt.xlabel('angle')\n",
        "plt.ylabel('distance')\n",
        "plt.show()"
      ],
      "metadata": {
        "id": "siv0zTqagnWd",
        "outputId": "bd0b90fb-07ae-4a51-fdd8-a07230cffc7e",
        "colab": {
          "base_uri": "https://localhost:8080/",
          "height": 561
        }
      },
      "execution_count": 22,
      "outputs": [
        {
          "output_type": "stream",
          "name": "stderr",
          "text": [
            "/usr/local/lib/python3.11/dist-packages/sklearn/base.py:474: FutureWarning: `BaseEstimator._validate_data` is deprecated in 1.6 and will be removed in 1.7. Use `sklearn.utils.validation.validate_data` instead. This function becomes public and is part of the scikit-learn developer API.\n",
            "  warnings.warn(\n",
            "/usr/local/lib/python3.11/dist-packages/sklearn/utils/validation.py:1408: DataConversionWarning: A column-vector y was passed when a 1d array was expected. Please change the shape of y to (n_samples, ), for example using ravel().\n",
            "  y = column_or_1d(y, warn=True)\n"
          ]
        },
        {
          "output_type": "display_data",
          "data": {
            "text/plain": [
              "<Figure size 640x480 with 1 Axes>"
            ],
            "image/png": "[encoded data removed]"
          },
          "metadata": {}
        }
      ]
    },
    {
      "cell_type": "code",
      "source": [
        "print(est_gp2._program)"
      ],
      "metadata": {
        "id": "YI-XVLluhk7K",
        "outputId": "d10ddbd3-b635-4ff1-f9a8-8ce37cc32d6d",
        "colab": {
          "base_uri": "https://localhost:8080/"
        }
      },
      "execution_count": 23,
      "outputs": [
        {
          "output_type": "stream",
          "name": "stdout",
          "text": [
            "cos(mul(mul(0.469, add(0.048, X0)), cos(mul(X0, 0.513))))\n"
          ]
        }
      ]
    },
    {
      "cell_type": "code",
      "source": [
        "dot_data = est_gp2._program.export_graphviz()\n",
        "graph = graphviz.Source(dot_data)\n",
        "graph"
      ],
      "metadata": {
        "id": "bpPQCRxDhnTU",
        "outputId": "2f7ac8eb-f351-46fa-e817-d830e7845817",
        "colab": {
          "base_uri": "https://localhost:8080/",
          "height": 464
        }
      },
      "execution_count": 25,
      "outputs": [
        {
          "output_type": "execute_result",
          "data": {
            "image/svg+xml": "<?xml version=\"1.0\" encoding=\"UTF-8\" standalone=\"no\"?>\n<!DOCTYPE svg PUBLIC \"-//W3C//DTD SVG 1.1//EN\"\n \"http://www.w3.org/Graphics/SVG/1.1/DTD/svg11.dtd\">\n<!-- Generated by graphviz version 2.43.0 (0)\n -->\n<!-- Title: program Pages: 1 -->\n<svg width=\"293pt\" height=\"332pt\"\n viewBox=\"0.00 0.00 293.09 332.00\" xmlns=\"http://www.w3.org/2000/svg\" xmlns:xlink=\"http://www.w3.org/1999/xlink\">\n<g id=\"graph0\" class=\"graph\" transform=\"scale(1 1) rotate(0) translate(4 328)\">\n<title>program</title>\n<polygon fill=\"white\" stroke=\"transparent\" points=\"-4,4 -4,-328 289.09,-328 289.09,4 -4,4\"/>\n<!-- 0 -->\n<g id=\"node1\" class=\"node\">\n<title>0</title>\n<ellipse fill=\"#136ed4\" stroke=\"black\" cx=\"142.55\" cy=\"-306\" rx=\"27\" ry=\"18\"/>\n<text text-anchor=\"middle\" x=\"142.55\" y=\"-302.3\" font-family=\"Times,serif\" font-size=\"14.00\">cos</text>\n</g>\n<!-- 1 -->\n<g id=\"node2\" class=\"node\">\n<title>1</title>\n<ellipse fill=\"#136ed4\" stroke=\"black\" cx=\"142.55\" cy=\"-234\" rx=\"27\" ry=\"18\"/>\n<text text-anchor=\"middle\" x=\"142.55\" y=\"-230.3\" font-family=\"Times,serif\" font-size=\"14.00\">mul</text>\n</g>\n<!-- 0&#45;&gt;1 -->\n<g id=\"edge10\" class=\"edge\">\n<title>0&#45;&gt;1</title>\n<path fill=\"none\" stroke=\"black\" d=\"M142.55,-287.7C142.55,-279.98 142.55,-270.71 142.55,-262.11\"/>\n<polygon fill=\"black\" stroke=\"black\" points=\"146.05,-262.1 142.55,-252.1 139.05,-262.1 146.05,-262.1\"/>\n</g>\n<!-- 2 -->\n<g id=\"node3\" class=\"node\">\n<title>2</title>\n<ellipse fill=\"#136ed4\" stroke=\"black\" cx=\"106.55\" cy=\"-162\" rx=\"27\" ry=\"18\"/>\n<text text-anchor=\"middle\" x=\"106.55\" y=\"-158.3\" font-family=\"Times,serif\" font-size=\"14.00\">mul</text>\n</g>\n<!-- 1&#45;&gt;2 -->\n<g id=\"edge9\" class=\"edge\">\n<title>1&#45;&gt;2</title>\n<path fill=\"none\" stroke=\"black\" d=\"M134.2,-216.76C129.84,-208.28 124.4,-197.71 119.51,-188.2\"/>\n<polygon fill=\"black\" stroke=\"black\" points=\"122.54,-186.44 114.85,-179.15 116.31,-189.64 122.54,-186.44\"/>\n</g>\n<!-- 7 -->\n<g id=\"node8\" class=\"node\">\n<title>7</title>\n<ellipse fill=\"#136ed4\" stroke=\"black\" cx=\"178.55\" cy=\"-162\" rx=\"27\" ry=\"18\"/>\n<text text-anchor=\"middle\" x=\"178.55\" y=\"-158.3\" font-family=\"Times,serif\" font-size=\"14.00\">cos</text>\n</g>\n<!-- 1&#45;&gt;7 -->\n<g id=\"edge8\" class=\"edge\">\n<title>1&#45;&gt;7</title>\n<path fill=\"none\" stroke=\"black\" d=\"M150.9,-216.76C155.26,-208.28 160.69,-197.71 165.59,-188.2\"/>\n<polygon fill=\"black\" stroke=\"black\" points=\"168.78,-189.64 170.24,-179.15 162.56,-186.44 168.78,-189.64\"/>\n</g>\n<!-- 3 -->\n<g id=\"node4\" class=\"node\">\n<title>3</title>\n<ellipse fill=\"#60a6f6\" stroke=\"black\" cx=\"30.55\" cy=\"-90\" rx=\"30.59\" ry=\"18\"/>\n<text text-anchor=\"middle\" x=\"30.55\" y=\"-86.3\" font-family=\"Times,serif\" font-size=\"14.00\">0.469</text>\n</g>\n<!-- 2&#45;&gt;3 -->\n<g id=\"edge4\" class=\"edge\">\n<title>2&#45;&gt;3</title>\n<path fill=\"none\" stroke=\"black\" d=\"M91.17,-146.83C80.49,-137 66.08,-123.72 53.98,-112.58\"/>\n<polygon fill=\"black\" stroke=\"black\" points=\"56.15,-109.83 46.43,-105.63 51.41,-114.98 56.15,-109.83\"/>\n</g>\n<!-- 4 -->\n<g id=\"node5\" class=\"node\">\n<title>4</title>\n<ellipse fill=\"#136ed4\" stroke=\"black\" cx=\"106.55\" cy=\"-90\" rx=\"27\" ry=\"18\"/>\n<text text-anchor=\"middle\" x=\"106.55\" y=\"-86.3\" font-family=\"Times,serif\" font-size=\"14.00\">add</text>\n</g>\n<!-- 2&#45;&gt;4 -->\n<g id=\"edge3\" class=\"edge\">\n<title>2&#45;&gt;4</title>\n<path fill=\"none\" stroke=\"black\" d=\"M106.55,-143.7C106.55,-135.98 106.55,-126.71 106.55,-118.11\"/>\n<polygon fill=\"black\" stroke=\"black\" points=\"110.05,-118.1 106.55,-108.1 103.05,-118.1 110.05,-118.1\"/>\n</g>\n<!-- 5 -->\n<g id=\"node6\" class=\"node\">\n<title>5</title>\n<ellipse fill=\"#60a6f6\" stroke=\"black\" cx=\"30.55\" cy=\"-18\" rx=\"30.59\" ry=\"18\"/>\n<text text-anchor=\"middle\" x=\"30.55\" y=\"-14.3\" font-family=\"Times,serif\" font-size=\"14.00\">0.048</text>\n</g>\n<!-- 4&#45;&gt;5 -->\n<g id=\"edge2\" class=\"edge\">\n<title>4&#45;&gt;5</title>\n<path fill=\"none\" stroke=\"black\" d=\"M91.17,-74.83C80.49,-65 66.08,-51.72 53.98,-40.58\"/>\n<polygon fill=\"black\" stroke=\"black\" points=\"56.15,-37.83 46.43,-33.63 51.41,-42.98 56.15,-37.83\"/>\n</g>\n<!-- 6 -->\n<g id=\"node7\" class=\"node\">\n<title>6</title>\n<ellipse fill=\"#60a6f6\" stroke=\"black\" cx=\"106.55\" cy=\"-18\" rx=\"27\" ry=\"18\"/>\n<text text-anchor=\"middle\" x=\"106.55\" y=\"-14.3\" font-family=\"Times,serif\" font-size=\"14.00\">X0</text>\n</g>\n<!-- 4&#45;&gt;6 -->\n<g id=\"edge1\" class=\"edge\">\n<title>4&#45;&gt;6</title>\n<path fill=\"none\" stroke=\"black\" d=\"M106.55,-71.7C106.55,-63.98 106.55,-54.71 106.55,-46.11\"/>\n<polygon fill=\"black\" stroke=\"black\" points=\"110.05,-46.1 106.55,-36.1 103.05,-46.1 110.05,-46.1\"/>\n</g>\n<!-- 8 -->\n<g id=\"node9\" class=\"node\">\n<title>8</title>\n<ellipse fill=\"#136ed4\" stroke=\"black\" cx=\"178.55\" cy=\"-90\" rx=\"27\" ry=\"18\"/>\n<text text-anchor=\"middle\" x=\"178.55\" y=\"-86.3\" font-family=\"Times,serif\" font-size=\"14.00\">mul</text>\n</g>\n<!-- 7&#45;&gt;8 -->\n<g id=\"edge7\" class=\"edge\">\n<title>7&#45;&gt;8</title>\n<path fill=\"none\" stroke=\"black\" d=\"M178.55,-143.7C178.55,-135.98 178.55,-126.71 178.55,-118.11\"/>\n<polygon fill=\"black\" stroke=\"black\" points=\"182.05,-118.1 178.55,-108.1 175.05,-118.1 182.05,-118.1\"/>\n</g>\n<!-- 9 -->\n<g id=\"node10\" class=\"node\">\n<title>9</title>\n<ellipse fill=\"#60a6f6\" stroke=\"black\" cx=\"178.55\" cy=\"-18\" rx=\"27\" ry=\"18\"/>\n<text text-anchor=\"middle\" x=\"178.55\" y=\"-14.3\" font-family=\"Times,serif\" font-size=\"14.00\">X0</text>\n</g>\n<!-- 8&#45;&gt;9 -->\n<g id=\"edge6\" class=\"edge\">\n<title>8&#45;&gt;9</title>\n<path fill=\"none\" stroke=\"black\" d=\"M178.55,-71.7C178.55,-63.98 178.55,-54.71 178.55,-46.11\"/>\n<polygon fill=\"black\" stroke=\"black\" points=\"182.05,-46.1 178.55,-36.1 175.05,-46.1 182.05,-46.1\"/>\n</g>\n<!-- 10 -->\n<g id=\"node11\" class=\"node\">\n<title>10</title>\n<ellipse fill=\"#60a6f6\" stroke=\"black\" cx=\"254.55\" cy=\"-18\" rx=\"30.59\" ry=\"18\"/>\n<text text-anchor=\"middle\" x=\"254.55\" y=\"-14.3\" font-family=\"Times,serif\" font-size=\"14.00\">0.513</text>\n</g>\n<!-- 8&#45;&gt;10 -->\n<g id=\"edge5\" class=\"edge\">\n<title>8&#45;&gt;10</title>\n<path fill=\"none\" stroke=\"black\" d=\"M193.93,-74.83C204.6,-65 219.02,-51.72 231.12,-40.58\"/>\n<polygon fill=\"black\" stroke=\"black\" points=\"233.68,-42.98 238.67,-33.63 228.94,-37.83 233.68,-42.98\"/>\n</g>\n</g>\n</svg>\n",
            "text/plain": [
              "<graphviz.sources.Source at 0x7d5287e6b590>"
            ]
          },
          "metadata": {},
          "execution_count": 25
        }
      ]
    },
    {
      "cell_type": "markdown",
      "metadata": {
        "id": "HYwGNNyXefZ5"
      },
      "source": [
        "## Classification"
      ]
    },
    {
      "cell_type": "markdown",
      "metadata": {
        "id": "zOkts7VpefZ5"
      },
      "source": [
        "Let's now look at an example where we don't know what the underlying function is: data analysis. We will use a commonly studied problem of breast cancer detection. In medical applications such as cancer detection, explainability of the machine learning model is critical."
      ]
    },
    {
      "cell_type": "code",
      "execution_count": null,
      "metadata": {
        "id": "3QNPD29qefZ5"
      },
      "outputs": [],
      "source": [
        "rng = check_random_state(0)\n",
        "cancer = load_breast_cancer()\n",
        "perm = rng.permutation(cancer.target.size)\n",
        "cancer.data = cancer.data[perm]\n",
        "cancer.target = cancer.target[perm]\n",
        "cancer.data.shape"
      ]
    },
    {
      "cell_type": "markdown",
      "metadata": {
        "id": "qGVciwUyefZ5"
      },
      "source": [
        "The goal of this dataset is to determine if a cell is malignant or benign. The features are the following measurements of a cell nucleus, taken over three dimensions:\n",
        "\n",
        "+ radius (mean of distances from center to points on the perimeter)\n",
        "+ texture (standard deviation of gray-scale values)\n",
        "+ perimeter\n",
        "+ area\n",
        "+ smoothness (local variation in radius lengths)\n",
        "+ compactness (perimeter^2 / area - 1.0)\n",
        "+ concavity (severity of concave portions of the contour)\n",
        "+ concave points (number of concave portions of the contour)\n",
        "+ symmetry\n",
        "+ fractal dimension (\"coastline approximation\" - 1)"
      ]
    },
    {
      "cell_type": "code",
      "execution_count": null,
      "metadata": {
        "id": "VXUeX2SwefZ6"
      },
      "outputs": [],
      "source": [
        "cancer.feature_names"
      ]
    },
    {
      "cell_type": "code",
      "execution_count": null,
      "metadata": {
        "id": "gwss5uLZefZ6"
      },
      "outputs": [],
      "source": [
        "est = SymbolicClassifier(parsimony_coefficient=.01,\n",
        "                         feature_names=cancer.feature_names,\n",
        "                         random_state=1)\n",
        "est.fit(cancer.data[:400], cancer.target[:400])"
      ]
    },
    {
      "cell_type": "markdown",
      "metadata": {
        "id": "EmS7PjhiefZ6"
      },
      "source": [
        "The fitting process can be long, but let's see how the evolved model performs on unseen data:"
      ]
    },
    {
      "cell_type": "code",
      "execution_count": null,
      "metadata": {
        "id": "gSGxFOYVefZ6"
      },
      "outputs": [],
      "source": [
        "y_true = cancer.target[400:]\n",
        "y_score = est.predict_proba(cancer.data[400:])[:,1]\n",
        "print('\\n'.join([str((y_true[i], y_score[i])) for i in range(5)]))\n",
        "roc_auc_score(y_true, y_score)"
      ]
    },
    {
      "cell_type": "markdown",
      "metadata": {
        "id": "TAk5UQ7XefZ6"
      },
      "source": [
        "This is a good accuracy! We can also see that the probabilities usually match the classification, although there are some incorrectly classified cases. Let's see if we can use the graph to understand how classification is being performed."
      ]
    },
    {
      "cell_type": "code",
      "execution_count": null,
      "metadata": {
        "id": "umMlTwcVefZ6"
      },
      "outputs": [],
      "source": [
        "dot_data = est._program.export_graphviz()\n",
        "graph = graphviz.Source(dot_data)\n",
        "graph\n"
      ]
    },
    {
      "cell_type": "markdown",
      "metadata": {
        "id": "1i4NGZM5efZ6"
      },
      "source": [
        "A different type of explainable machine learning model is the Decision Tree. We won't get into the details of how they're made, but feel free to look at the [scikit-learn documentation](https://scikit-learn.org/stable/modules/tree.html) for more information. Decision Trees use information theory to split features at relevant points in order to construct rules based on inequalities."
      ]
    },
    {
      "cell_type": "code",
      "execution_count": null,
      "metadata": {
        "id": "SA8yqMIYefZ6"
      },
      "outputs": [],
      "source": [
        "from sklearn.tree import DecisionTreeClassifier\n",
        "from sklearn.tree import export_graphviz"
      ]
    },
    {
      "cell_type": "code",
      "execution_count": null,
      "metadata": {
        "id": "VpicqJ8FefZ7"
      },
      "outputs": [],
      "source": [
        "decision_tree = DecisionTreeClassifier(random_state=0, max_depth=2)\n",
        "decision_tree = decision_tree.fit(cancer.data[:400], cancer.target[:400])"
      ]
    },
    {
      "cell_type": "code",
      "execution_count": null,
      "metadata": {
        "id": "B3mHjdIwefZ7"
      },
      "outputs": [],
      "source": [
        "y_true = cancer.target[400:]\n",
        "y_score = decision_tree.predict_proba(cancer.data[400:])[:,1]\n",
        "print('\\n'.join([str((y_true[i], y_score[i])) for i in range(5)]))\n",
        "roc_auc_score(y_true, y_score)"
      ]
    },
    {
      "cell_type": "code",
      "execution_count": null,
      "metadata": {
        "id": "SY-7uTlIefZ7"
      },
      "outputs": [],
      "source": [
        "import graphviz\n",
        "dot_data = export_graphviz(decision_tree, out_file=None)\n",
        "graph = graphviz.Source(dot_data)\n",
        "graph"
      ]
    },
    {
      "cell_type": "markdown",
      "metadata": {
        "id": "oTujmEyqefZ7"
      },
      "source": [
        "<div class=\"alert alert-success\">\n",
        "    <h3>Exercise 2</h3>\n",
        "\n",
        "As we can see, the GP graph uses a number of different functions, like multiplication and addition, in its tree, where the Decision Tree uses inequalities. Which leads to higher explainability, in your opinion? Discuss in groups.\n",
        "</div>"
      ]
    },
    {
      "cell_type": "markdown",
      "metadata": {
        "id": "1yIWPOkOefZ8"
      },
      "source": [
        "<div class=\"alert alert-success\">\n",
        "    <h3>Bonus Exercise</h3>\n",
        "\n",
        "Try tuning the parameters of the GP training. If you allow for larger trees, does this result in better models in terms of test accuracy?\n",
        "</div>"
      ]
    }
  ],
  "metadata": {
    "celltoolbar": "Slideshow",
    "colab": {
      "name": "L07.ipynb",
      "provenance": []
    },
    "kernelspec": {
      "display_name": "Python 3 (ipykernel)",
      "language": "python",
      "name": "python3"
    },
    "language_info": {
      "codemirror_mode": {
        "name": "ipython",
        "version": 3
      },
      "file_extension": ".py",
      "mimetype": "text/x-python",
      "name": "python",
      "nbconvert_exporter": "python",
      "pygments_lexer": "ipython3",
      "version": "3.10.10"
    }
  },
  "nbformat": 4,
  "nbformat_minor": 0
}